{
 "cells": [
  {
   "cell_type": "markdown",
   "id": "672a4e3b",
   "metadata": {},
   "source": [
    "# Linear regression"
   ]
  },
  {
   "cell_type": "markdown",
   "id": "61d9b95d",
   "metadata": {},
   "source": [
    "##  Linear regression with numpy "
   ]
  },
  {
   "cell_type": "markdown",
   "id": "faa3fb6d",
   "metadata": {},
   "source": [
    "### Import Packages and data"
   ]
  },
  {
   "cell_type": "code",
   "execution_count": 204,
   "id": "9f836db1",
   "metadata": {
    "ExecuteTime": {
     "end_time": "2023-02-04T21:44:11.865109Z",
     "start_time": "2023-02-04T21:44:11.853056Z"
    }
   },
   "outputs": [],
   "source": [
    "import pandas as pd\n",
    "import numpy as np\n",
    "import seaborn as sns\n",
    "import matplotlib.pyplot as plt\n",
    "import scipy.stats as st\n",
    "import math\n",
    "import statsmodels.api as sm\n",
    "import warnings\n",
    "warnings.filterwarnings('ignore')"
   ]
  },
  {
   "cell_type": "code",
   "execution_count": 205,
   "id": "a1f0c18b",
   "metadata": {
    "ExecuteTime": {
     "end_time": "2023-02-04T21:44:11.895245Z",
     "start_time": "2023-02-04T21:44:11.868125Z"
    }
   },
   "outputs": [],
   "source": [
    "from IPython.core.interactiveshell import InteractiveShell\n",
    "from scipy.stats import norm\n",
    "from sklearn.model_selection import train_test_split\n",
    "from sklearn.linear_model import LinearRegression\n",
    "InteractiveShell.ast_node_interactivity = \"all\""
   ]
  },
  {
   "cell_type": "code",
   "execution_count": 206,
   "id": "c27f4bbb",
   "metadata": {
    "ExecuteTime": {
     "end_time": "2023-02-04T21:44:11.910249Z",
     "start_time": "2023-02-04T21:44:11.899247Z"
    }
   },
   "outputs": [],
   "source": [
    "data_1 = \"C:/Users/fourz/OneDrive/Рабочий стол/Статистика/линейная регрессия/Linear regression all mhetods/FIle_1_for_linear.txt\""
   ]
  },
  {
   "cell_type": "code",
   "execution_count": 207,
   "id": "9c192dd6",
   "metadata": {
    "ExecuteTime": {
     "end_time": "2023-02-04T21:44:11.926251Z",
     "start_time": "2023-02-04T21:44:11.913249Z"
    }
   },
   "outputs": [],
   "source": [
    "df_1 = pd.read_csv(data_1, names = [\"x_train\", \"y_train\"])"
   ]
  },
  {
   "cell_type": "code",
   "execution_count": 208,
   "id": "61b2deb9",
   "metadata": {
    "ExecuteTime": {
     "end_time": "2023-02-04T21:44:11.958251Z",
     "start_time": "2023-02-04T21:44:11.930253Z"
    }
   },
   "outputs": [
    {
     "data": {
      "text/html": [
       "<div>\n",
       "<style scoped>\n",
       "    .dataframe tbody tr th:only-of-type {\n",
       "        vertical-align: middle;\n",
       "    }\n",
       "\n",
       "    .dataframe tbody tr th {\n",
       "        vertical-align: top;\n",
       "    }\n",
       "\n",
       "    .dataframe thead th {\n",
       "        text-align: right;\n",
       "    }\n",
       "</style>\n",
       "<table border=\"1\" class=\"dataframe\">\n",
       "  <thead>\n",
       "    <tr style=\"text-align: right;\">\n",
       "      <th></th>\n",
       "      <th>x_train</th>\n",
       "      <th>y_train</th>\n",
       "    </tr>\n",
       "  </thead>\n",
       "  <tbody>\n",
       "    <tr>\n",
       "      <th>count</th>\n",
       "      <td>97.000000</td>\n",
       "      <td>97.000000</td>\n",
       "    </tr>\n",
       "    <tr>\n",
       "      <th>mean</th>\n",
       "      <td>8.159800</td>\n",
       "      <td>5.839135</td>\n",
       "    </tr>\n",
       "    <tr>\n",
       "      <th>std</th>\n",
       "      <td>3.869884</td>\n",
       "      <td>5.510262</td>\n",
       "    </tr>\n",
       "    <tr>\n",
       "      <th>min</th>\n",
       "      <td>5.026900</td>\n",
       "      <td>-2.680700</td>\n",
       "    </tr>\n",
       "    <tr>\n",
       "      <th>25%</th>\n",
       "      <td>5.707700</td>\n",
       "      <td>1.986900</td>\n",
       "    </tr>\n",
       "    <tr>\n",
       "      <th>50%</th>\n",
       "      <td>6.589400</td>\n",
       "      <td>4.562300</td>\n",
       "    </tr>\n",
       "    <tr>\n",
       "      <th>75%</th>\n",
       "      <td>8.578100</td>\n",
       "      <td>7.046700</td>\n",
       "    </tr>\n",
       "    <tr>\n",
       "      <th>max</th>\n",
       "      <td>22.203000</td>\n",
       "      <td>24.147000</td>\n",
       "    </tr>\n",
       "  </tbody>\n",
       "</table>\n",
       "</div>"
      ],
      "text/plain": [
       "         x_train    y_train\n",
       "count  97.000000  97.000000\n",
       "mean    8.159800   5.839135\n",
       "std     3.869884   5.510262\n",
       "min     5.026900  -2.680700\n",
       "25%     5.707700   1.986900\n",
       "50%     6.589400   4.562300\n",
       "75%     8.578100   7.046700\n",
       "max    22.203000  24.147000"
      ]
     },
     "execution_count": 208,
     "metadata": {},
     "output_type": "execute_result"
    }
   ],
   "source": [
    "df_1.describe()"
   ]
  },
  {
   "cell_type": "markdown",
   "id": "bb3de62d",
   "metadata": {},
   "source": [
    "### Plot data"
   ]
  },
  {
   "cell_type": "code",
   "execution_count": 209,
   "id": "d746aa88",
   "metadata": {
    "ExecuteTime": {
     "end_time": "2023-02-04T21:44:12.213681Z",
     "start_time": "2023-02-04T21:44:11.961253Z"
    }
   },
   "outputs": [
    {
     "data": {
      "image/png": "[encoded data removed]",
      "text/plain": [
       "<Figure size 1152x504 with 1 Axes>"
      ]
     },
     "metadata": {
      "needs_background": "light"
     },
     "output_type": "display_data"
    }
   ],
   "source": [
    "fig, axs = plt.subplots(1, 1, figsize=(16, 7))\n",
    "sns.scatterplot(\n",
    "               x = \"x_train\",\n",
    "               y = \"y_train\", \n",
    "               data = df_1,\n",
    "               ax = axs,\n",
    "               s = 120\n",
    ")\n",
    "plt.title(\"Profits vs. Population per city\", fontsize = 20)\n",
    "plt.ylabel('Profit in $10,000', fontsize = 15)\n",
    "plt.xlabel('Population of City in 10,000s', fontsize = 15)\n",
    "plt.show();"
   ]
  },
  {
   "cell_type": "markdown",
   "id": "15075419",
   "metadata": {},
   "source": [
    "### Cost function MSE"
   ]
  },
  {
   "cell_type": "code",
   "execution_count": 210,
   "id": "69d50aec",
   "metadata": {
    "ExecuteTime": {
     "end_time": "2023-02-04T21:44:12.229688Z",
     "start_time": "2023-02-04T21:44:12.216682Z"
    }
   },
   "outputs": [],
   "source": [
    "def cost_function(X, y, w, b):\n",
    "    '''\n",
    "    Расчет функции потерь MSE  \n",
    "    \n",
    "    Args:\n",
    "        X (ndarray (m,)) : Полпуляция в городе \n",
    "        y (ndarray (m,)) : месячная выручка  \n",
    "        w (scalar) : параметр наклона или зависимый член функции \n",
    "        b (scalar) : параметр перехвата или независимый член функции\n",
    "      \n",
    "    return:\n",
    "        total_cost\n",
    "    '''\n",
    "    \n",
    "    m = X.shape[0]\n",
    "    total_cost = 0.\n",
    "    cost = 0.\n",
    "    \n",
    "    # Cost function\n",
    "    for i in range(m):\n",
    "        y_hat = np.dot(w, X[i]) + b\n",
    "        cost += (y_hat - y[i])**2\n",
    "        \n",
    "    total_cost = cost / (2 * m)\n",
    "    \n",
    "    return total_cost"
   ]
  },
  {
   "cell_type": "markdown",
   "id": "3b1715f1",
   "metadata": {},
   "source": [
    "#### Check function results"
   ]
  },
  {
   "cell_type": "code",
   "execution_count": 211,
   "id": "9b5f8d21",
   "metadata": {
    "ExecuteTime": {
     "end_time": "2023-02-04T21:44:12.245693Z",
     "start_time": "2023-02-04T21:44:12.232689Z"
    }
   },
   "outputs": [
    {
     "name": "stdout",
     "output_type": "stream",
     "text": [
      "75.20338497891959\n"
     ]
    }
   ],
   "source": [
    "initial_w = 2\n",
    "initial_b = 1\n",
    "\n",
    "cost = cost_function(\n",
    "                    df_1.x_train.values,\n",
    "                    df_1.y_train.values,\n",
    "                    initial_w,\n",
    "                    initial_b\n",
    ")\n",
    "print(cost)"
   ]
  },
  {
   "cell_type": "markdown",
   "id": "fd578496",
   "metadata": {},
   "source": [
    "###  Compute gradient for MSE"
   ]
  },
  {
   "cell_type": "code",
   "execution_count": 212,
   "id": "b82d75be",
   "metadata": {
    "ExecuteTime": {
     "end_time": "2023-02-04T21:44:12.261694Z",
     "start_time": "2023-02-04T21:44:12.248692Z"
    }
   },
   "outputs": [],
   "source": [
    "def gradient_function(X, y, w, b):\n",
    "    \"\"\"\n",
    "    Вычисляет градиент для линейной регрессии регрессии \n",
    " \n",
    "    Args:\n",
    "      X : (ndarray (m,)) :  Популяция в городе\n",
    "      y : (ndarray (m,)) :  Месячная выручка в городе  \n",
    "      w : (scalar) :   параметр наклона или зависимый член функции       \n",
    "      b : (scalar) :   параметр перехвата или независимый член функции\n",
    "      \n",
    "    Returns\n",
    "      derivative_w: (scalar) : Градиент параметра w \n",
    "      derivative_b: (scalar) : Градиент параметра b \n",
    "      \n",
    "    \"\"\"\n",
    "    m = X.shape[0]\n",
    "    derivative_w = 0.\n",
    "    derivative_b = 0.\n",
    "    \n",
    "    for i in range(m):\n",
    "        y_hat = np.dot(w, X[i]) + b\n",
    "        \n",
    "        derivative_w_i = (y_hat - y[i]) * X[i]\n",
    "        derivative_b_i = (y_hat - y[i])\n",
    "        \n",
    "        derivative_b += derivative_b_i\n",
    "        derivative_w += derivative_w_i\n",
    "        \n",
    "    derivative_b = derivative_b / m\n",
    "    derivative_w = derivative_w / m\n",
    "    \n",
    "    return derivative_w, derivative_b\n"
   ]
  },
  {
   "cell_type": "markdown",
   "id": "a34c4f34",
   "metadata": {},
   "source": [
    "#### Check function results"
   ]
  },
  {
   "cell_type": "code",
   "execution_count": 213,
   "id": "9c84f9ef",
   "metadata": {
    "ExecuteTime": {
     "end_time": "2023-02-04T21:44:12.277693Z",
     "start_time": "2023-02-04T21:44:12.263693Z"
    }
   },
   "outputs": [
    {
     "name": "stdout",
     "output_type": "stream",
     "text": [
      "Gradient at initial w, b (zeros): -65.32884974555672 -5.83913505154639\n"
     ]
    }
   ],
   "source": [
    "\n",
    "initial_w = 0.\n",
    "initial_b = 0.\n",
    "\n",
    "tmp_dj_dw, tmp_dj_db = gradient_function(\n",
    "                                        df_1.x_train.values,\n",
    "                                        df_1.y_train.values,\n",
    "                                        initial_w,\n",
    "                                        initial_b\n",
    ")\n",
    "print('Gradient at initial w, b (zeros):', tmp_dj_dw, tmp_dj_db)"
   ]
  },
  {
   "cell_type": "markdown",
   "id": "122ad3cf",
   "metadata": {},
   "source": [
    "### Learning parameters using gradient descent"
   ]
  },
  {
   "cell_type": "code",
   "execution_count": 214,
   "id": "9c2e47a7",
   "metadata": {
    "ExecuteTime": {
     "end_time": "2023-02-04T21:44:12.293695Z",
     "start_time": "2023-02-04T21:44:12.281696Z"
    }
   },
   "outputs": [],
   "source": [
    "def compute_gradient_descent(X, y, w, b,\n",
    "                             cost_function,\n",
    "                             gradient_function,\n",
    "                             alpha,\n",
    "                             num_iters):\n",
    "    \"\"\"\n",
    "   Выполняет пакетный градиентный спуск. Пошагово обновляет веса функции,\n",
    "   с альфа-скоростью обучени\n",
    "    \n",
    "    Args:\n",
    "      x : (ndarray (m,)) :   Популяция в городе \n",
    "      y : (ndarray (m,)) :   Месячная выручка \n",
    "      w : (scalar) :    параметр наклона или зависимый член функции       \n",
    "      b : (scalar) :    параметр перехвата или независимый член функции\n",
    "      \n",
    "      \n",
    "      gradient_function:     функция для расчета градиента\n",
    "      cost_function:         функция потерь\n",
    "      alpha :                Скорость обучения или шаг\n",
    "      num_iters :            кол-во итераций для градиентного спуска\n",
    "      \n",
    "    Returns:\n",
    "      w : подогнанный параметр наклона с помощью грудиентного спуска \n",
    "      b : подобранный параметр перехвата с помощью градиентного спуска\n",
    "    \"\"\"\n",
    "    \n",
    "    m = X.shape[0]\n",
    "    J_history = []\n",
    "    W_history = []\n",
    "    \n",
    "    for i in range(num_iters):\n",
    "        derivative_w, derivative_b = gradient_function(X, y, w, b)\n",
    "        \n",
    "        w -= alpha * derivative_w\n",
    "        b -= alpha * derivative_b\n",
    "        \n",
    "        if i < 100000:\n",
    "            cost = cost_function(X, y, w, b)\n",
    "            J_history.append(cost)\n",
    "            \n",
    "        if i% math.ceil(num_iters / 10) == 0:\n",
    "            W_history.append(w)\n",
    "            print(f\"Iteration {i:4}: Cost {float(J_history[-1]):8.2f}\")\n",
    "        \n",
    "    return w, b, J_history, W_history"
   ]
  },
  {
   "cell_type": "markdown",
   "id": "15fa60ca",
   "metadata": {},
   "source": [
    "#### Check function results"
   ]
  },
  {
   "cell_type": "code",
   "execution_count": 215,
   "id": "b2fd3049",
   "metadata": {
    "ExecuteTime": {
     "end_time": "2023-02-04T21:44:13.889945Z",
     "start_time": "2023-02-04T21:44:12.296696Z"
    }
   },
   "outputs": [
    {
     "name": "stdout",
     "output_type": "stream",
     "text": [
      "Iteration    0: Cost     6.74\n",
      "Iteration  200: Cost     5.17\n",
      "Iteration  400: Cost     4.82\n",
      "Iteration  600: Cost     4.64\n",
      "Iteration  800: Cost     4.56\n",
      "Iteration 1000: Cost     4.52\n",
      "Iteration 1200: Cost     4.50\n",
      "Iteration 1400: Cost     4.49\n",
      "Iteration 1600: Cost     4.48\n",
      "Iteration 1800: Cost     4.48\n",
      "w,b found by gradient descent: 1.182212774757377 -3.7880685727231103\n"
     ]
    }
   ],
   "source": [
    "initial_w = 0.\n",
    "initial_b = 0.\n",
    "iterations = 2000\n",
    "alpha = 0.01\n",
    "\n",
    "slope, intercept, J_history ,_ = compute_gradient_descent(\n",
    "                                    df_1.x_train.values,\n",
    "                                    df_1.y_train.values,\n",
    "                                    initial_w, initial_b, \n",
    "                                    cost_function,\n",
    "                                    gradient_function,\n",
    "                                    alpha, iterations\n",
    ")\n",
    "print(\"w,b found by gradient descent:\", slope, intercept)"
   ]
  },
  {
   "cell_type": "markdown",
   "id": "7e26c9bf",
   "metadata": {},
   "source": [
    "### Grahp of the loss function "
   ]
  },
  {
   "cell_type": "code",
   "execution_count": 216,
   "id": "59ac77f4",
   "metadata": {
    "ExecuteTime": {
     "end_time": "2023-02-04T21:44:14.110981Z",
     "start_time": "2023-02-04T21:44:13.891947Z"
    }
   },
   "outputs": [
    {
     "data": {
      "image/png": "[encoded data removed]",
      "text/plain": [
       "<Figure size 1080x432 with 1 Axes>"
      ]
     },
     "metadata": {
      "needs_background": "light"
     },
     "output_type": "display_data"
    }
   ],
   "source": [
    "plt.subplots(figsize=(15, 6))\n",
    "plt.plot(J_history, label='Loss function', linewidth = 4)\n",
    "plt.title(\"Loss function\", fontsize = 25)\n",
    "plt.tick_params(labelsize = 15);\n"
   ]
  },
  {
   "cell_type": "markdown",
   "id": "8b1be266",
   "metadata": {},
   "source": [
    "### Predict"
   ]
  },
  {
   "cell_type": "code",
   "execution_count": 217,
   "id": "d6d319f9",
   "metadata": {
    "ExecuteTime": {
     "end_time": "2023-02-04T21:44:14.125982Z",
     "start_time": "2023-02-04T21:44:14.112981Z"
    }
   },
   "outputs": [],
   "source": [
    "def Predicted_values(X, y, w, b):\n",
    "    m = X.shape[0]\n",
    "    y_hat = np.zeros(m)\n",
    "    \n",
    "    for i in range(m):\n",
    "        y_hat[i] = np.dot(w, X[i]) + b\n",
    "    return y_hat"
   ]
  },
  {
   "cell_type": "markdown",
   "id": "bda35d50",
   "metadata": {},
   "source": [
    "### Plot results "
   ]
  },
  {
   "cell_type": "code",
   "execution_count": 218,
   "id": "3b5e94d3",
   "metadata": {
    "ExecuteTime": {
     "end_time": "2023-02-04T21:44:14.332994Z",
     "start_time": "2023-02-04T21:44:14.128981Z"
    }
   },
   "outputs": [
    {
     "data": {
      "image/png": "[encoded data removed]",
      "text/plain": [
       "<Figure size 1152x504 with 1 Axes>"
      ]
     },
     "metadata": {
      "needs_background": "light"
     },
     "output_type": "display_data"
    },
    {
     "name": "stdout",
     "output_type": "stream",
     "text": [
      "****************************************************************** \n",
      "\n",
      "For population = 55,000, we predict a profit of $27141.02\n",
      "For population = 70,000, we predict a profit of $44874.21\n",
      "For population = 170,000, we predict a profit of $163095.49 \n",
      "\n",
      "****************************************************************** \n",
      "\n"
     ]
    }
   ],
   "source": [
    "line = Predicted_values(df_1.x_train.values, df_1.y_train.values, slope, intercept)\n",
    "_, axes = plt.subplots(figsize = (16, 7))\n",
    "\n",
    "\n",
    "axes.plot(df_1.x_train.values, line, linewidth=3)\n",
    "sns.scatterplot(\n",
    "                x = \"x_train\",\n",
    "                y = \"y_train\", \n",
    "                data = df_1,\n",
    "                s = 120,\n",
    "                color = \"C1\",\n",
    "                marker = \"X\"\n",
    ")\n",
    "\n",
    "plt.title(\"Profits vs. Population per city\", fontsize = 20)\n",
    "plt.ylabel('Profit in $10,000', fontsize = 15)\n",
    "plt.xlabel('Population of City in 10,000s', fontsize = 15)\n",
    "plt.show()\n",
    "\n",
    "predict1 = 5.5 * slope + intercept\n",
    "predict2 = 7.0 * slope + intercept\n",
    "predict3 = 17. * slope + intercept\n",
    "print(  \"**\" * 33,  \"\\n\")\n",
    "print('For population = 55,000, we predict a profit of $%.2f' % (predict1 * 10000))\n",
    "print('For population = 70,000, we predict a profit of $%.2f' % (predict2 * 10000))\n",
    "print('For population = 170,000, we predict a profit of $%.2f' % (predict3 * 10000), \"\\n\")\n",
    "print( \"**\" * 33,  \"\\n\");"
   ]
  },
  {
   "cell_type": "markdown",
   "id": "156384ae",
   "metadata": {},
   "source": [
    "### Calculate the coefficient of determination."
   ]
  },
  {
   "cell_type": "code",
   "execution_count": 219,
   "id": "99eea44e",
   "metadata": {
    "ExecuteTime": {
     "end_time": "2023-02-04T21:44:14.348998Z",
     "start_time": "2023-02-04T21:44:14.335998Z"
    }
   },
   "outputs": [],
   "source": [
    "def coefficient_determination(X, y, w, b):\n",
    "    m = X.shape[0]\n",
    "    RSS = 0.\n",
    "    TSS = 0.\n",
    "    \n",
    "    for i in range(m):\n",
    "        y_hat = np.dot(w, X[i]) + b\n",
    "        err = (y[i] - y_hat)**2\n",
    "        RSS += err\n",
    "        \n",
    "    for j in range(m):\n",
    "        delta = (y[j] - y.mean())**2\n",
    "        TSS += delta\n",
    "        \n",
    "    R_2 = 1 - ( (RSS / m) / (TSS / m) )\n",
    "    return R_2"
   ]
  },
  {
   "cell_type": "code",
   "execution_count": 220,
   "id": "2f8b07ce",
   "metadata": {
    "ExecuteTime": {
     "end_time": "2023-02-04T21:44:14.363998Z",
     "start_time": "2023-02-04T21:44:14.351999Z"
    }
   },
   "outputs": [
    {
     "data": {
      "text/plain": [
       "0.70196125528343"
      ]
     },
     "execution_count": 220,
     "metadata": {},
     "output_type": "execute_result"
    }
   ],
   "source": [
    "R_2 = coefficient_determination(df_1.x_train.values, df_1.y_train.values, slope, intercept)\n",
    "R_2"
   ]
  },
  {
   "cell_type": "markdown",
   "id": "dba42def",
   "metadata": {},
   "source": [
    "### Confidence interval for the coefficient of determination with 0.05 alpha"
   ]
  },
  {
   "cell_type": "code",
   "execution_count": 221,
   "id": "d668b725",
   "metadata": {
    "ExecuteTime": {
     "end_time": "2023-02-04T21:44:14.378998Z",
     "start_time": "2023-02-04T21:44:14.365999Z"
    }
   },
   "outputs": [],
   "source": [
    "def coinfidence_interval_R(R_coef, data):\n",
    "    c = np.array([-1, 1])\n",
    "    t_tab = 1.9847232\n",
    "    margin_err = (1 - R_coef) / len(data)\n",
    "    C_interval = R_coef + c * margin_err * t_tab\n",
    "    \n",
    "    return C_interval"
   ]
  },
  {
   "cell_type": "code",
   "execution_count": 222,
   "id": "03911f70",
   "metadata": {
    "ExecuteTime": {
     "end_time": "2023-02-04T21:44:14.395001Z",
     "start_time": "2023-02-04T21:44:14.381002Z"
    }
   },
   "outputs": [
    {
     "data": {
      "text/plain": [
       "array([0.69586307, 0.70805945])"
      ]
     },
     "execution_count": 222,
     "metadata": {},
     "output_type": "execute_result"
    }
   ],
   "source": [
    "coinfidence_interval_R(R_2, df_1)"
   ]
  },
  {
   "cell_type": "markdown",
   "id": "3e3e2495",
   "metadata": {},
   "source": [
    "### Проверка распредления остатков "
   ]
  },
  {
   "cell_type": "code",
   "execution_count": 242,
   "id": "e75a27c9",
   "metadata": {
    "ExecuteTime": {
     "end_time": "2023-02-04T21:48:54.090211Z",
     "start_time": "2023-02-04T21:48:53.615853Z"
    },
    "scrolled": false
   },
   "outputs": [
    {
     "data": {
      "image/png": "[encoded data removed]",
      "text/plain": [
       "<Figure size 1440x648 with 2 Axes>"
      ]
     },
     "metadata": {
      "needs_background": "light"
     },
     "output_type": "display_data"
    }
   ],
   "source": [
    "errors = df_1.y_train.values - Predicted_values(df_1.x_train.values, df_1.y_train.values, slope, intercept)   # Остатки\n",
    "\n",
    "# Предположим нормальность остатков и найдем параметры\n",
    "sigma_param = np.std(errors)\n",
    "mu_param = np.mean(errors)\n",
    "# normal = lambda x: 1/np.sqrt(2 * np.pi * sigma_param ** 2) * np.exp( - (x - mu_param) ** 2/(2 * sigma_param ** 2))\n",
    "grid = np.linspace(np.min(errors), np.max(errors), 1000)\n",
    "\n",
    "\n",
    "_, axs = plt.subplots(1, 2,figsize = (20, 9))\n",
    "sns.histplot(\n",
    "             errors,\n",
    "             stat=\"density\",\n",
    "             element=\"bars\",\n",
    "             common_norm=False,\n",
    "             label = \"Гистограмма ошибок\",\n",
    "             ax = axs[0]\n",
    ")\n",
    "sns.residplot(data = df_1,\n",
    "             x = \"x_train\",\n",
    "             y=\"y_train\",\n",
    "             lowess=False,\n",
    "             robust=False,\n",
    "             label= \"Остатки\",\n",
    "             scatter_kws={'s': 60, 'color': 'darkorange'},\n",
    "             ax =axs[1]\n",
    ")\n",
    "\n",
    "axs[0].set_title(f\"\"\"Распределение ошибок, sigma = {sigma_param.round(3)}, mu = {mu_param.round(3)}\"\"\", fontsize = 18)\n",
    "axs[0].plot(grid, norm.pdf(grid, mu_param, sigma_param), label = \"Теоретическое распределение\", color = \"C3\",)\n",
    "\n",
    "axs[0].legend(fontsize = 13)\n",
    "axs[1].legend(fontsize = 18)\n",
    "\n",
    "plt.show();"
   ]
  },
  {
   "cell_type": "markdown",
   "id": "dfe5b794",
   "metadata": {},
   "source": [
    "### Сhecking the adequacy of the model\n",
    "\n",
    "- **H0 утверждает: что выбранный набор независимых переменных Х не оказывает значимого статистического влияния на переменную Y**\n",
    "\n",
    "- **H1 утверждает: что существует\n",
    "хотя бы один фактор, значимо влияющий на зависимую\n",
    "переменную.**"
   ]
  },
  {
   "cell_type": "code",
   "execution_count": 224,
   "id": "48968d14",
   "metadata": {
    "ExecuteTime": {
     "end_time": "2023-02-04T21:44:14.854159Z",
     "start_time": "2023-02-04T21:44:14.840155Z"
    }
   },
   "outputs": [],
   "source": [
    "def Fisher_test(X, y, w, b):\n",
    "    \n",
    "    dfn, dfd = X.shape[0]-1, X.shape[0] - 2 # степени свободы\n",
    "    m = X.shape[0]\n",
    "    \n",
    "    SSE = 0. #  (Sum of Squared Error)\n",
    "    SST = 0. # (Sum of Squared Total)\n",
    "    \n",
    "    # Расчет квадрата ошибок \n",
    "    for i in range(m):\n",
    "        y_hat = np.dot(w, X[i]) + b\n",
    "        err = (y[i] - y_hat)**2\n",
    "        SSE += err\n",
    "    \n",
    "    # Расчет дисперсии для y_train\n",
    "    for j in range(m):\n",
    "        delta = (y[j] - y.mean())**2\n",
    "        SST += delta\n",
    "        \n",
    "    MST = (SST / (dfn))  # Маштабируем дисперсию \n",
    "    MSE = (SSE / (dfd))  # Маштабируем квадраты остатков \n",
    "    \n",
    "    # РАсчет критерия фишера\n",
    "    F_calc = MST / MSE\n",
    "    F_table = st.f.ppf(0.95, dfn, dfd, loc=0, scale=1) # Взятие табличного значения критерия фишера\n",
    "    \n",
    "    if F_calc >= F_table:\n",
    "        print(\"Откланяем нулевую гипотезу\", F_calc)\n",
    "    else:\n",
    "        print(\"Остаемся с нулевой гипотезой\", F_calc)\n",
    "    \n",
    "    return "
   ]
  },
  {
   "cell_type": "code",
   "execution_count": 225,
   "id": "54bb132a",
   "metadata": {
    "ExecuteTime": {
     "end_time": "2023-02-04T21:44:14.885287Z",
     "start_time": "2023-02-04T21:44:14.857285Z"
    }
   },
   "outputs": [
    {
     "name": "stdout",
     "output_type": "stream",
     "text": [
      "Откланяем нулевую гипотезу 3.3203177468567424\n"
     ]
    }
   ],
   "source": [
    "Fisher_test(df_1.x_train.values, df_1.y_train.values, slope, intercept)"
   ]
  },
  {
   "cell_type": "markdown",
   "id": "f6d85553",
   "metadata": {},
   "source": [
    "### Regression metrics"
   ]
  },
  {
   "cell_type": "code",
   "execution_count": 226,
   "id": "8013e843",
   "metadata": {
    "ExecuteTime": {
     "end_time": "2023-02-04T21:44:14.900287Z",
     "start_time": "2023-02-04T21:44:14.887287Z"
    }
   },
   "outputs": [],
   "source": [
    "def regression_error_metrics(X, y, w, b, predict, my_model = \"\"):\n",
    "    m = X.shape[0]\n",
    "    \n",
    "    y_hat = predict(X, y, w, b)\n",
    "        \n",
    "    MSE = 1 / m * np.sum((y_hat - y)**2)    \n",
    "    RMSE = np.sqrt(MSE)\n",
    "    MAE = (1 / m) * np.sum(abs(y_hat - y))\n",
    "    MSPE = (1 / m) * np.sum(((y - y_hat)/ y)**2)\n",
    "    MAPE = (1 / m ) * np.sum(abs((y - y_hat) / y))\n",
    "    \n",
    "    model_error_metrics = {\n",
    "        'MSE': MSE,\n",
    "        'RMSE': RMSE,\n",
    "        'MAE': MAE,\n",
    "        'MSPE': MSPE,\n",
    "        'MAPE': MAPE}\n",
    "    \n",
    "    result = pd.DataFrame({\n",
    "        'MSE': MSE,\n",
    "        'RMSE': RMSE,\n",
    "        'MAE': MAE,\n",
    "        'MSPE': \"{:.3%}\".format(MSPE),\n",
    "        'MAPE': \"{:.3%}\".format(MAPE)},\n",
    "        index=[my_model]) \n",
    "    \n",
    "    \n",
    "    return model_error_metrics, result"
   ]
  },
  {
   "cell_type": "markdown",
   "id": "d5765160",
   "metadata": {},
   "source": [
    "## Linear regression with scikit-learn"
   ]
  },
  {
   "cell_type": "markdown",
   "id": "b7fac9ea",
   "metadata": {},
   "source": [
    "### train test split"
   ]
  },
  {
   "cell_type": "code",
   "execution_count": 227,
   "id": "bf547515",
   "metadata": {
    "ExecuteTime": {
     "end_time": "2023-02-04T21:44:14.916057Z",
     "start_time": "2023-02-04T21:44:14.903395Z"
    }
   },
   "outputs": [],
   "source": [
    "seed = 1234\n",
    "Y = df_1.y_train.values.reshape(-1, 1)\n",
    "X = df_1.x_train.values.reshape(-1, 1)\n",
    "X_train, X_test, y_train, y_test = train_test_split(X, Y, train_size = 0.8,\n",
    "                                                    random_state = seed,\n",
    "                                                    shuffle = False)\n"
   ]
  },
  {
   "cell_type": "markdown",
   "id": "0e0f6f5b",
   "metadata": {},
   "source": [
    "### Training model "
   ]
  },
  {
   "cell_type": "code",
   "execution_count": 228,
   "id": "27215fe2",
   "metadata": {
    "ExecuteTime": {
     "end_time": "2023-02-04T21:44:14.936303Z",
     "start_time": "2023-02-04T21:44:14.919057Z"
    }
   },
   "outputs": [
    {
     "data": {
      "text/html": [
       "<style>#sk-container-id-10 {color: black;background-color: white;}#sk-container-id-10 pre{padding: 0;}#sk-container-id-10 div.sk-toggleable {background-color: white;}#sk-container-id-10 label.sk-toggleable__label {cursor: pointer;display: block;width: 100%;margin-bottom: 0;padding: 0.3em;box-sizing: border-box;text-align: center;}#sk-container-id-10 label.sk-toggleable__label-arrow:before {content: \"▸\";float: left;margin-right: 0.25em;color: #696969;}#sk-container-id-10 label.sk-toggleable__label-arrow:hover:before {color: black;}#sk-container-id-10 div.sk-estimator:hover label.sk-toggleable__label-arrow:before {color: black;}#sk-container-id-10 div.sk-toggleable__content {max-height: 0;max-width: 0;overflow: hidden;text-align: left;background-color: #f0f8ff;}#sk-container-id-10 div.sk-toggleable__content pre {margin: 0.2em;color: black;border-radius: 0.25em;background-color: #f0f8ff;}#sk-container-id-10 input.sk-toggleable__control:checked~div.sk-toggleable__content {max-height: 200px;max-width: 100%;overflow: auto;}#sk-container-id-10 input.sk-toggleable__control:checked~label.sk-toggleable__label-arrow:before {content: \"▾\";}#sk-container-id-10 div.sk-estimator input.sk-toggleable__control:checked~label.sk-toggleable__label {background-color: #d4ebff;}#sk-container-id-10 div.sk-label input.sk-toggleable__control:checked~label.sk-toggleable__label {background-color: #d4ebff;}#sk-container-id-10 input.sk-hidden--visually {border: 0;clip: rect(1px 1px 1px 1px);clip: rect(1px, 1px, 1px, 1px);height: 1px;margin: -1px;overflow: hidden;padding: 0;position: absolute;width: 1px;}#sk-container-id-10 div.sk-estimator {font-family: monospace;background-color: #f0f8ff;border: 1px dotted black;border-radius: 0.25em;box-sizing: border-box;margin-bottom: 0.5em;}#sk-container-id-10 div.sk-estimator:hover {background-color: #d4ebff;}#sk-container-id-10 div.sk-parallel-item::after {content: \"\";width: 100%;border-bottom: 1px solid gray;flex-grow: 1;}#sk-container-id-10 div.sk-label:hover label.sk-toggleable__label {background-color: #d4ebff;}#sk-container-id-10 div.sk-serial::before {content: \"\";position: absolute;border-left: 1px solid gray;box-sizing: border-box;top: 0;bottom: 0;left: 50%;z-index: 0;}#sk-container-id-10 div.sk-serial {display: flex;flex-direction: column;align-items: center;background-color: white;padding-right: 0.2em;padding-left: 0.2em;position: relative;}#sk-container-id-10 div.sk-item {position: relative;z-index: 1;}#sk-container-id-10 div.sk-parallel {display: flex;align-items: stretch;justify-content: center;background-color: white;position: relative;}#sk-container-id-10 div.sk-item::before, #sk-container-id-10 div.sk-parallel-item::before {content: \"\";position: absolute;border-left: 1px solid gray;box-sizing: border-box;top: 0;bottom: 0;left: 50%;z-index: -1;}#sk-container-id-10 div.sk-parallel-item {display: flex;flex-direction: column;z-index: 1;position: relative;background-color: white;}#sk-container-id-10 div.sk-parallel-item:first-child::after {align-self: flex-end;width: 50%;}#sk-container-id-10 div.sk-parallel-item:last-child::after {align-self: flex-start;width: 50%;}#sk-container-id-10 div.sk-parallel-item:only-child::after {width: 0;}#sk-container-id-10 div.sk-dashed-wrapped {border: 1px dashed gray;margin: 0 0.4em 0.5em 0.4em;box-sizing: border-box;padding-bottom: 0.4em;background-color: white;}#sk-container-id-10 div.sk-label label {font-family: monospace;font-weight: bold;display: inline-block;line-height: 1.2em;}#sk-container-id-10 div.sk-label-container {text-align: center;}#sk-container-id-10 div.sk-container {/* jupyter's `normalize.less` sets `[hidden] { display: none; }` but bootstrap.min.css set `[hidden] { display: none !important; }` so we also need the `!important` here to be able to override the default hidden behavior on the sphinx rendered scikit-learn.org. See: https://github.com/scikit-learn/scikit-learn/issues/21755 */display: inline-block !important;position: relative;}#sk-container-id-10 div.sk-text-repr-fallback {display: none;}</style><div id=\"sk-container-id-10\" class=\"sk-top-container\"><div class=\"sk-text-repr-fallback\"><pre>LinearRegression()</pre><b>In a Jupyter environment, please rerun this cell to show the HTML representation or trust the notebook. <br />On GitHub, the HTML representation is unable to render, please try loading this page with nbviewer.org.</b></div><div class=\"sk-container\" hidden><div class=\"sk-item\"><div class=\"sk-estimator sk-toggleable\"><input class=\"sk-toggleable__control sk-hidden--visually\" id=\"sk-estimator-id-10\" type=\"checkbox\" checked><label for=\"sk-estimator-id-10\" class=\"sk-toggleable__label sk-toggleable__label-arrow\">LinearRegression</label><div class=\"sk-toggleable__content\"><pre>LinearRegression()</pre></div></div></div></div></div>"
      ],
      "text/plain": [
       "LinearRegression()"
      ]
     },
     "execution_count": 228,
     "metadata": {},
     "output_type": "execute_result"
    }
   ],
   "source": [
    "Simpl_linear_reg = LinearRegression()\n",
    "Simpl_linear_reg.fit(X_train, y_train)\n",
    "y_pred = Simpl_linear_reg.predict(X)\n",
    "R_tot = Simpl_linear_reg.score(X, Y)\n",
    "R_test = Simpl_linear_reg.score(X_test, y_test)"
   ]
  },
  {
   "cell_type": "markdown",
   "id": "9e30855f",
   "metadata": {},
   "source": [
    "## Conclusion"
   ]
  },
  {
   "cell_type": "code",
   "execution_count": 229,
   "id": "5d3bdf46",
   "metadata": {
    "ExecuteTime": {
     "end_time": "2023-02-04T21:44:15.220551Z",
     "start_time": "2023-02-04T21:44:14.939298Z"
    },
    "scrolled": false
   },
   "outputs": [
    {
     "data": {
      "image/png": "[encoded data removed]",
      "text/plain": [
       "<Figure size 1152x504 with 1 Axes>"
      ]
     },
     "metadata": {
      "needs_background": "light"
     },
     "output_type": "display_data"
    },
    {
     "name": "stdout",
     "output_type": "stream",
     "text": [
      "****************************************************************** \n",
      "\n",
      "For population = 55,000, we predict a profit of $29255.77\n",
      "For population = 70,000, we predict a profit of $47160.91\n",
      "For population = 170,000, we predict a profit of $166528.48 \n",
      "\n",
      "****************************************************************** \n",
      "\n"
     ]
    }
   ],
   "source": [
    "line_predict = y_pred\n",
    "_, axes = plt.subplots(figsize = (16, 7))\n",
    "\n",
    "sns.lineplot(\n",
    "             df_1.x_train.values,\n",
    "             line,\n",
    "             label=\"Numpy regression: %f\" %(R_2),\n",
    "             dashes=[(1, 1), (5, 10)],\n",
    "             legend = True,\n",
    "             ax = axes\n",
    ")\n",
    "axes.plot(\n",
    "          df_1.x_train.values,\n",
    "          line_predict,\n",
    "          color = \"r\",\n",
    "          linewidth=1,\n",
    "          label=\"Scikit-learn regression: %f\"% (R_tot)\n",
    ")\n",
    "\n",
    "sns.scatterplot(\n",
    "                x = \"x_train\",\n",
    "                y = \"y_train\", \n",
    "                data = df_1,\n",
    "                s = 120,\n",
    "                color = \"C1\",\n",
    "                marker = \"X\"\n",
    ")\n",
    "\n",
    "\n",
    "plt.title(\"Profits vs. Population per city\", fontsize = 20)\n",
    "plt.ylabel('Profit in $10,000', fontsize = 15)\n",
    "plt.xlabel('Population of City in 10,000s', fontsize = 15)\n",
    "plt.legend(fontsize = 13)\n",
    "plt.show()\n",
    "\n",
    "\n",
    "predict_scklrn1 = 5.5 * Simpl_linear_reg.coef_ + Simpl_linear_reg.intercept_\n",
    "predict_scklrn2 = 7.0 * Simpl_linear_reg.coef_ + Simpl_linear_reg.intercept_\n",
    "predict_scklrn3 = 17. * Simpl_linear_reg.coef_ + Simpl_linear_reg.intercept_\n",
    "\n",
    "print(  \"**\" * 33,  \"\\n\")\n",
    "print('For population = 55,000, we predict a profit of $%.2f' % (predict_scklrn1 * 10000))\n",
    "print('For population = 70,000, we predict a profit of $%.2f' % (predict_scklrn2 * 10000))\n",
    "print('For population = 170,000, we predict a profit of $%.2f' % (predict_scklrn3 * 10000), \"\\n\")\n",
    "print( \"**\" * 33,  \"\\n\");"
   ]
  },
  {
   "cell_type": "code",
   "execution_count": 230,
   "id": "29b939be",
   "metadata": {
    "ExecuteTime": {
     "end_time": "2023-02-04T21:44:15.252472Z",
     "start_time": "2023-02-04T21:44:15.222552Z"
    }
   },
   "outputs": [
    {
     "data": {
      "text/html": [
       "<div>\n",
       "<style scoped>\n",
       "    .dataframe tbody tr th:only-of-type {\n",
       "        vertical-align: middle;\n",
       "    }\n",
       "\n",
       "    .dataframe tbody tr th {\n",
       "        vertical-align: top;\n",
       "    }\n",
       "\n",
       "    .dataframe thead th {\n",
       "        text-align: right;\n",
       "    }\n",
       "</style>\n",
       "<table border=\"1\" class=\"dataframe\">\n",
       "  <thead>\n",
       "    <tr style=\"text-align: right;\">\n",
       "      <th></th>\n",
       "      <th>MSE</th>\n",
       "      <th>RMSE</th>\n",
       "      <th>MAE</th>\n",
       "      <th>MSPE</th>\n",
       "      <th>MAPE</th>\n",
       "    </tr>\n",
       "  </thead>\n",
       "  <tbody>\n",
       "    <tr>\n",
       "      <th>My model</th>\n",
       "      <td>8.956055</td>\n",
       "      <td>2.992667</td>\n",
       "      <td>2.20096</td>\n",
       "      <td>2446.762%</td>\n",
       "      <td>155.747%</td>\n",
       "    </tr>\n",
       "  </tbody>\n",
       "</table>\n",
       "</div>"
      ],
      "text/plain": [
       "               MSE      RMSE      MAE       MSPE      MAPE\n",
       "My model  8.956055  2.992667  2.20096  2446.762%  155.747%"
      ]
     },
     "metadata": {},
     "output_type": "display_data"
    },
    {
     "data": {
      "text/html": [
       "<div>\n",
       "<style scoped>\n",
       "    .dataframe tbody tr th:only-of-type {\n",
       "        vertical-align: middle;\n",
       "    }\n",
       "\n",
       "    .dataframe tbody tr th {\n",
       "        vertical-align: top;\n",
       "    }\n",
       "\n",
       "    .dataframe thead th {\n",
       "        text-align: right;\n",
       "    }\n",
       "</style>\n",
       "<table border=\"1\" class=\"dataframe\">\n",
       "  <thead>\n",
       "    <tr style=\"text-align: right;\">\n",
       "      <th></th>\n",
       "      <th>MSE</th>\n",
       "      <th>RMSE</th>\n",
       "      <th>MAE</th>\n",
       "      <th>MSPE</th>\n",
       "      <th>MAPE</th>\n",
       "    </tr>\n",
       "  </thead>\n",
       "  <tbody>\n",
       "    <tr>\n",
       "      <th>Scikit learn model</th>\n",
       "      <td>9.022269</td>\n",
       "      <td>3.003709</td>\n",
       "      <td>2.248181</td>\n",
       "      <td>2713.991%</td>\n",
       "      <td>165.833%</td>\n",
       "    </tr>\n",
       "  </tbody>\n",
       "</table>\n",
       "</div>"
      ],
      "text/plain": [
       "                         MSE      RMSE       MAE       MSPE      MAPE\n",
       "Scikit learn model  9.022269  3.003709  2.248181  2713.991%  165.833%"
      ]
     },
     "metadata": {},
     "output_type": "display_data"
    }
   ],
   "source": [
    "# My model\n",
    "(model_error_metrics, result) = regression_error_metrics(\n",
    "                                                         df_1.x_train.values,\n",
    "                                                         df_1.y_train.values,\n",
    "                                                         slope, intercept,\n",
    "                                                         Predicted_values,\n",
    "                                                         my_model = \"My model\"\n",
    ")\n",
    "# Scikit learn simple model \n",
    "(model_error_metrics2, result2) = regression_error_metrics(\n",
    "                                                         df_1.x_train.values,\n",
    "                                                         df_1.y_train.values,\n",
    "                                                         Simpl_linear_reg.coef_,\n",
    "                                                         Simpl_linear_reg.intercept_,\n",
    "                                                         Predicted_values,\n",
    "                                                         my_model = \"Scikit learn model\"\n",
    ")\n",
    "display(result, result2)"
   ]
  },
  {
   "cell_type": "code",
   "execution_count": null,
   "id": "072b3bca",
   "metadata": {},
   "outputs": [],
   "source": []
  }
 ],
 "metadata": {
  "kernelspec": {
   "display_name": "Python 3 (ipykernel)",
   "language": "python",
   "name": "python3"
  },
  "language_info": {
   "codemirror_mode": {
    "name": "ipython",
    "version": 3
   },
   "file_extension": ".py",
   "mimetype": "text/x-python",
   "name": "python",
   "nbconvert_exporter": "python",
   "pygments_lexer": "ipython3",
   "version": "3.9.12"
  },
  "toc": {
   "base_numbering": 1,
   "nav_menu": {},
   "number_sections": true,
   "sideBar": true,
   "skip_h1_title": false,
   "title_cell": "Table of Contents",
   "title_sidebar": "Contents",
   "toc_cell": false,
   "toc_position": {
    "height": "calc(100% - 180px)",
    "left": "10px",
    "top": "150px",
    "width": "384px"
   },
   "toc_section_display": true,
   "toc_window_display": true
  },
  "varInspector": {
   "cols": {
    "lenName": 16,
    "lenType": 16,
    "lenVar": 40
   },
   "kernels_config": {
    "python": {
     "delete_cmd_postfix": "",
     "delete_cmd_prefix": "del ",
     "library": "var_list.py",
     "varRefreshCmd": "print(var_dic_list())"
    },
    "r": {
     "delete_cmd_postfix": ") ",
     "delete_cmd_prefix": "rm(",
     "library": "var_list.r",
     "varRefreshCmd": "cat(var_dic_list()) "
    }
   },
   "types_to_exclude": [
    "module",
    "function",
    "builtin_function_or_method",
    "instance",
    "_Feature"
   ],
   "window_display": false
  }
 },
 "nbformat": 4,
 "nbformat_minor": 5
}
