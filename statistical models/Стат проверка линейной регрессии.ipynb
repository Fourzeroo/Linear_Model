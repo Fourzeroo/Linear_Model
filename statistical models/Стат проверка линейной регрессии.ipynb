{
 "cells": [
  {
   "cell_type": "code",
   "execution_count": 1,
   "id": "1299cac1",
   "metadata": {},
   "outputs": [],
   "source": [
    "import numpy as np\n",
    "import random\n",
    "import matplotlib.pyplot as plt\n",
    "import seaborn as sns\n",
    "import pandas as pd\n",
    "import statsmodels.api as sm\n",
    "import scipy.stats as st\n",
    "from scipy.stats import spearmanr"
   ]
  },
  {
   "cell_type": "markdown",
   "id": "f702c53c",
   "metadata": {},
   "source": [
    "# Первый файл "
   ]
  },
  {
   "cell_type": "code",
   "execution_count": 2,
   "id": "15af1af3",
   "metadata": {
    "scrolled": true
   },
   "outputs": [
    {
     "data": {
      "text/html": [
       "<div>\n",
       "<style scoped>\n",
       "    .dataframe tbody tr th:only-of-type {\n",
       "        vertical-align: middle;\n",
       "    }\n",
       "\n",
       "    .dataframe tbody tr th {\n",
       "        vertical-align: top;\n",
       "    }\n",
       "\n",
       "    .dataframe thead th {\n",
       "        text-align: right;\n",
       "    }\n",
       "</style>\n",
       "<table border=\"1\" class=\"dataframe\">\n",
       "  <thead>\n",
       "    <tr style=\"text-align: right;\">\n",
       "      <th></th>\n",
       "      <th>X</th>\n",
       "      <th>Y</th>\n",
       "    </tr>\n",
       "  </thead>\n",
       "  <tbody>\n",
       "    <tr>\n",
       "      <th>0</th>\n",
       "      <td>5.000000</td>\n",
       "      <td>5.898558</td>\n",
       "    </tr>\n",
       "    <tr>\n",
       "      <th>1</th>\n",
       "      <td>5.202020</td>\n",
       "      <td>6.775998</td>\n",
       "    </tr>\n",
       "    <tr>\n",
       "      <th>2</th>\n",
       "      <td>5.404040</td>\n",
       "      <td>7.615025</td>\n",
       "    </tr>\n",
       "    <tr>\n",
       "      <th>3</th>\n",
       "      <td>5.606061</td>\n",
       "      <td>8.414141</td>\n",
       "    </tr>\n",
       "    <tr>\n",
       "      <th>4</th>\n",
       "      <td>5.808081</td>\n",
       "      <td>7.946979</td>\n",
       "    </tr>\n",
       "  </tbody>\n",
       "</table>\n",
       "</div>"
      ],
      "text/plain": [
       "          X         Y\n",
       "0  5.000000  5.898558\n",
       "1  5.202020  6.775998\n",
       "2  5.404040  7.615025\n",
       "3  5.606061  8.414141\n",
       "4  5.808081  7.946979"
      ]
     },
     "execution_count": 2,
     "metadata": {},
     "output_type": "execute_result"
    }
   ],
   "source": [
    "data_1 = np.loadtxt(\"C:/Users/fourz/Downloads/1.txt\", delimiter=',', dtype=np.float64)\n",
    "df = pd.DataFrame(data_1, columns= [\"X\", \"Y\"])\n",
    "df.head()"
   ]
  },
  {
   "cell_type": "markdown",
   "id": "cbd86f0e",
   "metadata": {},
   "source": [
    "### Описательная статистика "
   ]
  },
  {
   "cell_type": "code",
   "execution_count": 3,
   "id": "2c2be773",
   "metadata": {
    "scrolled": false
   },
   "outputs": [
    {
     "data": {
      "text/html": [
       "<div>\n",
       "<style scoped>\n",
       "    .dataframe tbody tr th:only-of-type {\n",
       "        vertical-align: middle;\n",
       "    }\n",
       "\n",
       "    .dataframe tbody tr th {\n",
       "        vertical-align: top;\n",
       "    }\n",
       "\n",
       "    .dataframe thead th {\n",
       "        text-align: right;\n",
       "    }\n",
       "</style>\n",
       "<table border=\"1\" class=\"dataframe\">\n",
       "  <thead>\n",
       "    <tr style=\"text-align: right;\">\n",
       "      <th></th>\n",
       "      <th>X</th>\n",
       "      <th>Y</th>\n",
       "    </tr>\n",
       "  </thead>\n",
       "  <tbody>\n",
       "    <tr>\n",
       "      <th>count</th>\n",
       "      <td>100.000000</td>\n",
       "      <td>100.000000</td>\n",
       "    </tr>\n",
       "    <tr>\n",
       "      <th>mean</th>\n",
       "      <td>15.000000</td>\n",
       "      <td>30.549274</td>\n",
       "    </tr>\n",
       "    <tr>\n",
       "      <th>std</th>\n",
       "      <td>5.860907</td>\n",
       "      <td>13.076907</td>\n",
       "    </tr>\n",
       "    <tr>\n",
       "      <th>min</th>\n",
       "      <td>5.000000</td>\n",
       "      <td>5.898558</td>\n",
       "    </tr>\n",
       "    <tr>\n",
       "      <th>25%</th>\n",
       "      <td>10.000000</td>\n",
       "      <td>20.289819</td>\n",
       "    </tr>\n",
       "    <tr>\n",
       "      <th>50%</th>\n",
       "      <td>15.000000</td>\n",
       "      <td>29.738269</td>\n",
       "    </tr>\n",
       "    <tr>\n",
       "      <th>75%</th>\n",
       "      <td>20.000000</td>\n",
       "      <td>41.713283</td>\n",
       "    </tr>\n",
       "    <tr>\n",
       "      <th>max</th>\n",
       "      <td>25.000000</td>\n",
       "      <td>53.679608</td>\n",
       "    </tr>\n",
       "  </tbody>\n",
       "</table>\n",
       "</div>"
      ],
      "text/plain": [
       "                X           Y\n",
       "count  100.000000  100.000000\n",
       "mean    15.000000   30.549274\n",
       "std      5.860907   13.076907\n",
       "min      5.000000    5.898558\n",
       "25%     10.000000   20.289819\n",
       "50%     15.000000   29.738269\n",
       "75%     20.000000   41.713283\n",
       "max     25.000000   53.679608"
      ]
     },
     "execution_count": 3,
     "metadata": {},
     "output_type": "execute_result"
    }
   ],
   "source": [
    "df.describe()"
   ]
  },
  {
   "cell_type": "markdown",
   "id": "3555cd80",
   "metadata": {},
   "source": [
    "### Глянуть на данные оценить их визульно "
   ]
  },
  {
   "cell_type": "code",
   "execution_count": 4,
   "id": "9560ce3c",
   "metadata": {
    "scrolled": false
   },
   "outputs": [
    {
     "data": {
      "image/png": "[encoded data removed]",
      "text/plain": [
       "<Figure size 1152x432 with 1 Axes>"
      ]
     },
     "metadata": {
      "needs_background": "light"
     },
     "output_type": "display_data"
    }
   ],
   "source": [
    "plt.figure(figsize=(16, 6))\n",
    "sns.boxplot(data=df, orient=\"h\")\n",
    "plt.grid()\n"
   ]
  },
  {
   "cell_type": "markdown",
   "id": "af6747b2",
   "metadata": {},
   "source": [
    "### Посчитать коэффициент детерминации. Чем ближе |𝑟(𝑥, 𝑦)| к 1, тем теснее связь между исследуемыми величинами.\n"
   ]
  },
  {
   "cell_type": "code",
   "execution_count": 5,
   "id": "b99b632a",
   "metadata": {},
   "outputs": [
    {
     "name": "stdout",
     "output_type": "stream",
     "text": [
      "0.9731766609573025\n"
     ]
    }
   ],
   "source": [
    "cc = df[[\"X\", \"Y\"]].corr()\n",
    "print(cc.Y.X**2)\n",
    "#Рассчитаем связь между величинами по вычисленным описательным статистикам по формуле выше для\n",
    "#𝑟(𝑥, 𝑦). Полученное значение корреляции 𝑟(𝑥, 𝑦) ≈ 0.973, что говорит о сильной линейной связи между\n",
    "#переменными. По шкале Чеддока данная связь характеризуется как весьма высокая."
   ]
  },
  {
   "cell_type": "markdown",
   "id": "b34c3e79",
   "metadata": {},
   "source": [
    "### Также оценим значимость коэффициента с помощью проверки по следующему критерию. Рассчитаем 𝑡-статистику для данного ряда данных и коэффициента линейной корреляции:"
   ]
  },
  {
   "cell_type": "code",
   "execution_count": 6,
   "id": "98a4a939",
   "metadata": {
    "scrolled": true
   },
   "outputs": [
    {
     "data": {
      "text/plain": [
       "9.587293090460646"
      ]
     },
     "execution_count": 6,
     "metadata": {},
     "output_type": "execute_result"
    }
   ],
   "source": [
    "t_stat = abs(cc.Y.X ** 2) * np.sqrt((len(df) - 2) / 1 - (cc.Y.X ** 2) ** 2)\n",
    "t_stat\n",
    "# H0 <= 1.98\n",
    "# H1 > 1.98\n",
    "#Из значений 𝑡-Статистики видно, что уровень значимости преодолен, и значение коэффициента линейной корреляции\n",
    "#Пирсона значительно отличается от нуля и его значение является статистически значимым."
   ]
  },
  {
   "cell_type": "markdown",
   "id": "82d7ee1d",
   "metadata": {},
   "source": [
    "### Построить доверительный интервал для 𝑟(𝑥, 𝑦) с надежностью 𝛾 = 0.95"
   ]
  },
  {
   "cell_type": "code",
   "execution_count": 7,
   "id": "bbb9f207",
   "metadata": {
    "scrolled": true
   },
   "outputs": [
    {
     "data": {
      "text/plain": [
       "array([0.97264556, 0.97370776])"
      ]
     },
     "execution_count": 7,
     "metadata": {},
     "output_type": "execute_result"
    }
   ],
   "source": [
    "d = (1 - cc.Y.X ** 2) / len(df) # Погрешность \n",
    "c = np.array([-1, 1])\n",
    "CIR = cc.Y.X ** 2 + c * d * 1.98 # расчет доверительного интервала \n",
    "CIR"
   ]
  },
  {
   "cell_type": "code",
   "execution_count": 8,
   "id": "da1c8f73",
   "metadata": {},
   "outputs": [],
   "source": [
    "def RSS(df, result):\n",
    "    R = (df.Y - result.predict()) ** 2\n",
    "    return R.sum()\n",
    "#Понадобится для прогнознах интервалов и для теста чоу "
   ]
  },
  {
   "cell_type": "markdown",
   "id": "68816836",
   "metadata": {},
   "source": [
    "### Построение и подгонка линейной модели "
   ]
  },
  {
   "cell_type": "code",
   "execution_count": 9,
   "id": "6f69628b",
   "metadata": {
    "scrolled": false
   },
   "outputs": [
    {
     "data": {
      "text/html": [
       "<table class=\"simpletable\">\n",
       "<caption>OLS Regression Results</caption>\n",
       "<tr>\n",
       "  <th>Dep. Variable:</th>            <td>Y</td>        <th>  R-squared:         </th> <td>   0.973</td>\n",
       "</tr>\n",
       "<tr>\n",
       "  <th>Model:</th>                   <td>OLS</td>       <th>  Adj. R-squared:    </th> <td>   0.973</td>\n",
       "</tr>\n",
       "<tr>\n",
       "  <th>Method:</th>             <td>Least Squares</td>  <th>  F-statistic:       </th> <td>   3556.</td>\n",
       "</tr>\n",
       "<tr>\n",
       "  <th>Date:</th>             <td>Sat, 03 Dec 2022</td> <th>  Prob (F-statistic):</th> <td>8.09e-79</td>\n",
       "</tr>\n",
       "<tr>\n",
       "  <th>Time:</th>                 <td>12:44:55</td>     <th>  Log-Likelihood:    </th> <td> -217.55</td>\n",
       "</tr>\n",
       "<tr>\n",
       "  <th>No. Observations:</th>      <td>   100</td>      <th>  AIC:               </th> <td>   439.1</td>\n",
       "</tr>\n",
       "<tr>\n",
       "  <th>Df Residuals:</th>          <td>    98</td>      <th>  BIC:               </th> <td>   444.3</td>\n",
       "</tr>\n",
       "<tr>\n",
       "  <th>Df Model:</th>              <td>     1</td>      <th>                     </th>     <td> </td>   \n",
       "</tr>\n",
       "<tr>\n",
       "  <th>Covariance Type:</th>      <td>nonrobust</td>    <th>                     </th>     <td> </td>   \n",
       "</tr>\n",
       "</table>\n",
       "<table class=\"simpletable\">\n",
       "<tr>\n",
       "      <td></td>         <th>coef</th>     <th>std err</th>      <th>t</th>      <th>P>|t|</th>  <th>[0.025</th>    <th>0.975]</th>  \n",
       "</tr>\n",
       "<tr>\n",
       "  <th>Intercept</th> <td>   -2.4669</td> <td>    0.594</td> <td>   -4.153</td> <td> 0.000</td> <td>   -3.646</td> <td>   -1.288</td>\n",
       "</tr>\n",
       "<tr>\n",
       "  <th>X</th>         <td>    2.2011</td> <td>    0.037</td> <td>   59.628</td> <td> 0.000</td> <td>    2.128</td> <td>    2.274</td>\n",
       "</tr>\n",
       "</table>\n",
       "<table class=\"simpletable\">\n",
       "<tr>\n",
       "  <th>Omnibus:</th>       <td> 0.124</td> <th>  Durbin-Watson:     </th> <td>   1.795</td>\n",
       "</tr>\n",
       "<tr>\n",
       "  <th>Prob(Omnibus):</th> <td> 0.940</td> <th>  Jarque-Bera (JB):  </th> <td>   0.155</td>\n",
       "</tr>\n",
       "<tr>\n",
       "  <th>Skew:</th>          <td> 0.079</td> <th>  Prob(JB):          </th> <td>   0.926</td>\n",
       "</tr>\n",
       "<tr>\n",
       "  <th>Kurtosis:</th>      <td> 2.891</td> <th>  Cond. No.          </th> <td>    44.6</td>\n",
       "</tr>\n",
       "</table><br/><br/>Notes:<br/>[1] Standard Errors assume that the covariance matrix of the errors is correctly specified."
      ],
      "text/plain": [
       "<class 'statsmodels.iolib.summary.Summary'>\n",
       "\"\"\"\n",
       "                            OLS Regression Results                            \n",
       "==============================================================================\n",
       "Dep. Variable:                      Y   R-squared:                       0.973\n",
       "Model:                            OLS   Adj. R-squared:                  0.973\n",
       "Method:                 Least Squares   F-statistic:                     3556.\n",
       "Date:                Sat, 03 Dec 2022   Prob (F-statistic):           8.09e-79\n",
       "Time:                        12:44:55   Log-Likelihood:                -217.55\n",
       "No. Observations:                 100   AIC:                             439.1\n",
       "Df Residuals:                      98   BIC:                             444.3\n",
       "Df Model:                           1                                         \n",
       "Covariance Type:            nonrobust                                         \n",
       "==============================================================================\n",
       "                 coef    std err          t      P>|t|      [0.025      0.975]\n",
       "------------------------------------------------------------------------------\n",
       "Intercept     -2.4669      0.594     -4.153      0.000      -3.646      -1.288\n",
       "X              2.2011      0.037     59.628      0.000       2.128       2.274\n",
       "==============================================================================\n",
       "Omnibus:                        0.124   Durbin-Watson:                   1.795\n",
       "Prob(Omnibus):                  0.940   Jarque-Bera (JB):                0.155\n",
       "Skew:                           0.079   Prob(JB):                        0.926\n",
       "Kurtosis:                       2.891   Cond. No.                         44.6\n",
       "==============================================================================\n",
       "\n",
       "Notes:\n",
       "[1] Standard Errors assume that the covariance matrix of the errors is correctly specified.\n",
       "\"\"\""
      ]
     },
     "execution_count": 9,
     "metadata": {},
     "output_type": "execute_result"
    }
   ],
   "source": [
    "model = sm.OLS.from_formula(\"Y ~ X\", data = df)\n",
    "result = model.fit()\n",
    "result.summary()"
   ]
  },
  {
   "cell_type": "markdown",
   "id": "9613141c",
   "metadata": {},
   "source": [
    "### Оценка адекватности оцененной модели регрессии. Определение F-критерия"
   ]
  },
  {
   "cell_type": "code",
   "execution_count": 10,
   "id": "29097b40",
   "metadata": {},
   "outputs": [
    {
     "name": "stdout",
     "output_type": "stream",
     "text": [
      "\n",
      " Расчетная статистка значительно больше кретического значения распредления фишера, Остаемся с H0 \n",
      " Модель адекватна \n"
     ]
    },
    {
     "data": {
      "text/plain": [
       "0.027097046583949083"
      ]
     },
     "execution_count": 10,
     "metadata": {},
     "output_type": "execute_result"
    }
   ],
   "source": [
    "def fisher_test(df, result):\n",
    "    \n",
    "    RSS = sum((df.Y - result.predict()) ** 2)/ (len(df) - 2) # Это не совсем RSS так просто назвал\n",
    "    TSS = sum((df.Y - df.Y.mean()) ** 2)/ (len(df) - 1)\n",
    "    F = RSS / TSS\n",
    "    \n",
    "    if F > 0.05: # На самом деле тут не 0.05 а число по таблице, но я не нашел функцию которая считает критические значения поэтому оставил 0.05 \n",
    "        print(\"\\n\", \"Расчетная статистка значительно больше кретического значения распредления фишера, Принимаем H1\",\n",
    "              \"\\n\", \"Модель признается НЕ адекватной \",)\n",
    "    else:\n",
    "        print(\"\\n\", \"Расчетная статистка значительно больше кретического значения распредления фишера, Остаемся с H0\",\n",
    "              \"\\n\", \"Модель адекватна \")\n",
    "    return F\n",
    "fisher_test(df, result)"
   ]
  },
  {
   "cell_type": "code",
   "execution_count": 11,
   "id": "8d1d2e02",
   "metadata": {},
   "outputs": [
    {
     "data": {
      "image/png": "[encoded data removed]",
      "text/plain": [
       "<Figure size 1152x576 with 1 Axes>"
      ]
     },
     "metadata": {
      "needs_background": "light"
     },
     "output_type": "display_data"
    }
   ],
   "source": [
    "plt.figure(figsize=(16, 8))\n",
    "sns.regplot(\n",
    "    x=df.X, \n",
    "    y=df.Y, \n",
    "    data=df,\n",
    "    robust=True,\n",
    "    scatter_kws={\"s\": 55, 'color': 'g'}, \n",
    "    line_kws={\"lw\":3}\n",
    ")\n",
    "plt.grid()"
   ]
  },
  {
   "cell_type": "markdown",
   "id": "16da61a5",
   "metadata": {},
   "source": [
    "## Расчет \"margin of error\""
   ]
  },
  {
   "cell_type": "code",
   "execution_count": 12,
   "id": "9e87bff9",
   "metadata": {},
   "outputs": [],
   "source": [
    "y = result.params[0] + result.params[1] * 15 # Выберем какое нибудь значение для прогноза например \n",
    "t = 1.9844675\n",
    "SQRT = np.sqrt(1 + 1 /len(df) + ((15 - df.X.mean()) ** 2)/ len(df) * df.X.std() ** 2) # Супервыебанная формула \n",
    "E = t * (RSS(df, result) / len(df) - 2) * SQRT"
   ]
  },
  {
   "cell_type": "markdown",
   "id": "98cd1be7",
   "metadata": {},
   "source": [
    "## Оценка прогнозного интервала для линейной модели регрессии"
   ]
  },
  {
   "cell_type": "code",
   "execution_count": 13,
   "id": "bc3e5eb3",
   "metadata": {},
   "outputs": [
    {
     "data": {
      "text/plain": [
       "array([25.48145496, 35.61709401])"
      ]
     },
     "execution_count": 13,
     "metadata": {},
     "output_type": "execute_result"
    }
   ],
   "source": [
    "# Доверительный интервал строится: Лучшая оценка +- погрешщность (margin of error)\n",
    "CII = y + c * E\n",
    "CII"
   ]
  },
  {
   "cell_type": "markdown",
   "id": "b2bdddce",
   "metadata": {},
   "source": [
    "# Второй файл "
   ]
  },
  {
   "cell_type": "code",
   "execution_count": 14,
   "id": "eeb111c8",
   "metadata": {},
   "outputs": [
    {
     "data": {
      "text/html": [
       "<div>\n",
       "<style scoped>\n",
       "    .dataframe tbody tr th:only-of-type {\n",
       "        vertical-align: middle;\n",
       "    }\n",
       "\n",
       "    .dataframe tbody tr th {\n",
       "        vertical-align: top;\n",
       "    }\n",
       "\n",
       "    .dataframe thead th {\n",
       "        text-align: right;\n",
       "    }\n",
       "</style>\n",
       "<table border=\"1\" class=\"dataframe\">\n",
       "  <thead>\n",
       "    <tr style=\"text-align: right;\">\n",
       "      <th></th>\n",
       "      <th>X</th>\n",
       "      <th>Y</th>\n",
       "    </tr>\n",
       "  </thead>\n",
       "  <tbody>\n",
       "    <tr>\n",
       "      <th>0</th>\n",
       "      <td>5.000000</td>\n",
       "      <td>14.728427</td>\n",
       "    </tr>\n",
       "    <tr>\n",
       "      <th>1</th>\n",
       "      <td>5.202020</td>\n",
       "      <td>-2.531906</td>\n",
       "    </tr>\n",
       "    <tr>\n",
       "      <th>2</th>\n",
       "      <td>5.404040</td>\n",
       "      <td>2.785172</td>\n",
       "    </tr>\n",
       "    <tr>\n",
       "      <th>3</th>\n",
       "      <td>5.606061</td>\n",
       "      <td>3.829840</td>\n",
       "    </tr>\n",
       "    <tr>\n",
       "      <th>4</th>\n",
       "      <td>5.808081</td>\n",
       "      <td>-18.097788</td>\n",
       "    </tr>\n",
       "  </tbody>\n",
       "</table>\n",
       "</div>"
      ],
      "text/plain": [
       "          X          Y\n",
       "0  5.000000  14.728427\n",
       "1  5.202020  -2.531906\n",
       "2  5.404040   2.785172\n",
       "3  5.606061   3.829840\n",
       "4  5.808081 -18.097788"
      ]
     },
     "execution_count": 14,
     "metadata": {},
     "output_type": "execute_result"
    }
   ],
   "source": [
    "data_3 = np.loadtxt(\"C:/Users/fourz/Downloads/3.txt\", delimiter=',', dtype=np.float64)\n",
    "df3 = pd.DataFrame(data_3, columns= [\"X\", \"Y\"])\n",
    "df3.head()"
   ]
  },
  {
   "cell_type": "markdown",
   "id": "adace8fe",
   "metadata": {},
   "source": [
    "## Описательная статистика "
   ]
  },
  {
   "cell_type": "code",
   "execution_count": 15,
   "id": "386e93ec",
   "metadata": {},
   "outputs": [
    {
     "data": {
      "text/html": [
       "<div>\n",
       "<style scoped>\n",
       "    .dataframe tbody tr th:only-of-type {\n",
       "        vertical-align: middle;\n",
       "    }\n",
       "\n",
       "    .dataframe tbody tr th {\n",
       "        vertical-align: top;\n",
       "    }\n",
       "\n",
       "    .dataframe thead th {\n",
       "        text-align: right;\n",
       "    }\n",
       "</style>\n",
       "<table border=\"1\" class=\"dataframe\">\n",
       "  <thead>\n",
       "    <tr style=\"text-align: right;\">\n",
       "      <th></th>\n",
       "      <th>X</th>\n",
       "      <th>Y</th>\n",
       "    </tr>\n",
       "  </thead>\n",
       "  <tbody>\n",
       "    <tr>\n",
       "      <th>count</th>\n",
       "      <td>100.000000</td>\n",
       "      <td>100.000000</td>\n",
       "    </tr>\n",
       "    <tr>\n",
       "      <th>mean</th>\n",
       "      <td>15.000000</td>\n",
       "      <td>29.398876</td>\n",
       "    </tr>\n",
       "    <tr>\n",
       "      <th>std</th>\n",
       "      <td>5.860907</td>\n",
       "      <td>40.865088</td>\n",
       "    </tr>\n",
       "    <tr>\n",
       "      <th>min</th>\n",
       "      <td>5.000000</td>\n",
       "      <td>-138.431106</td>\n",
       "    </tr>\n",
       "    <tr>\n",
       "      <th>25%</th>\n",
       "      <td>10.000000</td>\n",
       "      <td>2.693601</td>\n",
       "    </tr>\n",
       "    <tr>\n",
       "      <th>50%</th>\n",
       "      <td>15.000000</td>\n",
       "      <td>24.598001</td>\n",
       "    </tr>\n",
       "    <tr>\n",
       "      <th>75%</th>\n",
       "      <td>20.000000</td>\n",
       "      <td>48.048078</td>\n",
       "    </tr>\n",
       "    <tr>\n",
       "      <th>max</th>\n",
       "      <td>25.000000</td>\n",
       "      <td>159.800494</td>\n",
       "    </tr>\n",
       "  </tbody>\n",
       "</table>\n",
       "</div>"
      ],
      "text/plain": [
       "                X           Y\n",
       "count  100.000000  100.000000\n",
       "mean    15.000000   29.398876\n",
       "std      5.860907   40.865088\n",
       "min      5.000000 -138.431106\n",
       "25%     10.000000    2.693601\n",
       "50%     15.000000   24.598001\n",
       "75%     20.000000   48.048078\n",
       "max     25.000000  159.800494"
      ]
     },
     "execution_count": 15,
     "metadata": {},
     "output_type": "execute_result"
    }
   ],
   "source": [
    "df3.describe()"
   ]
  },
  {
   "cell_type": "code",
   "execution_count": 16,
   "id": "2c129499",
   "metadata": {},
   "outputs": [
    {
     "data": {
      "image/png": "[encoded data removed]",
      "text/plain": [
       "<Figure size 1152x432 with 1 Axes>"
      ]
     },
     "metadata": {
      "needs_background": "light"
     },
     "output_type": "display_data"
    }
   ],
   "source": [
    "plt.figure(figsize=(16, 6))\n",
    "sns.boxplot(data=df3, orient=\"h\")\n",
    "plt.grid()"
   ]
  },
  {
   "cell_type": "code",
   "execution_count": 17,
   "id": "6457e7ba",
   "metadata": {},
   "outputs": [
    {
     "data": {
      "text/html": [
       "<table class=\"simpletable\">\n",
       "<caption>OLS Regression Results</caption>\n",
       "<tr>\n",
       "  <th>Dep. Variable:</th>            <td>Y</td>        <th>  R-squared:         </th> <td>   0.081</td>\n",
       "</tr>\n",
       "<tr>\n",
       "  <th>Model:</th>                   <td>OLS</td>       <th>  Adj. R-squared:    </th> <td>   0.072</td>\n",
       "</tr>\n",
       "<tr>\n",
       "  <th>Method:</th>             <td>Least Squares</td>  <th>  F-statistic:       </th> <td>   8.659</td>\n",
       "</tr>\n",
       "<tr>\n",
       "  <th>Date:</th>             <td>Sat, 03 Dec 2022</td> <th>  Prob (F-statistic):</th>  <td>0.00406</td>\n",
       "</tr>\n",
       "<tr>\n",
       "  <th>Time:</th>                 <td>12:45:04</td>     <th>  Log-Likelihood:    </th> <td> -508.19</td>\n",
       "</tr>\n",
       "<tr>\n",
       "  <th>No. Observations:</th>      <td>   100</td>      <th>  AIC:               </th> <td>   1020.</td>\n",
       "</tr>\n",
       "<tr>\n",
       "  <th>Df Residuals:</th>          <td>    98</td>      <th>  BIC:               </th> <td>   1026.</td>\n",
       "</tr>\n",
       "<tr>\n",
       "  <th>Df Model:</th>              <td>     1</td>      <th>                     </th>     <td> </td>   \n",
       "</tr>\n",
       "<tr>\n",
       "  <th>Covariance Type:</th>      <td>nonrobust</td>    <th>                     </th>     <td> </td>   \n",
       "</tr>\n",
       "</table>\n",
       "<table class=\"simpletable\">\n",
       "<tr>\n",
       "      <td></td>         <th>coef</th>     <th>std err</th>      <th>t</th>      <th>P>|t|</th>  <th>[0.025</th>    <th>0.975]</th>  \n",
       "</tr>\n",
       "<tr>\n",
       "  <th>Intercept</th> <td>   -0.4012</td> <td>   10.865</td> <td>   -0.037</td> <td> 0.971</td> <td>  -21.963</td> <td>   21.161</td>\n",
       "</tr>\n",
       "<tr>\n",
       "  <th>X</th>         <td>    1.9867</td> <td>    0.675</td> <td>    2.943</td> <td> 0.004</td> <td>    0.647</td> <td>    3.326</td>\n",
       "</tr>\n",
       "</table>\n",
       "<table class=\"simpletable\">\n",
       "<tr>\n",
       "  <th>Omnibus:</th>       <td>22.453</td> <th>  Durbin-Watson:     </th> <td>   1.786</td>\n",
       "</tr>\n",
       "<tr>\n",
       "  <th>Prob(Omnibus):</th> <td> 0.000</td> <th>  Jarque-Bera (JB):  </th> <td>  94.350</td>\n",
       "</tr>\n",
       "<tr>\n",
       "  <th>Skew:</th>          <td>-0.528</td> <th>  Prob(JB):          </th> <td>3.25e-21</td>\n",
       "</tr>\n",
       "<tr>\n",
       "  <th>Kurtosis:</th>      <td> 7.640</td> <th>  Cond. No.          </th> <td>    44.6</td>\n",
       "</tr>\n",
       "</table><br/><br/>Notes:<br/>[1] Standard Errors assume that the covariance matrix of the errors is correctly specified."
      ],
      "text/plain": [
       "<class 'statsmodels.iolib.summary.Summary'>\n",
       "\"\"\"\n",
       "                            OLS Regression Results                            \n",
       "==============================================================================\n",
       "Dep. Variable:                      Y   R-squared:                       0.081\n",
       "Model:                            OLS   Adj. R-squared:                  0.072\n",
       "Method:                 Least Squares   F-statistic:                     8.659\n",
       "Date:                Sat, 03 Dec 2022   Prob (F-statistic):            0.00406\n",
       "Time:                        12:45:04   Log-Likelihood:                -508.19\n",
       "No. Observations:                 100   AIC:                             1020.\n",
       "Df Residuals:                      98   BIC:                             1026.\n",
       "Df Model:                           1                                         \n",
       "Covariance Type:            nonrobust                                         \n",
       "==============================================================================\n",
       "                 coef    std err          t      P>|t|      [0.025      0.975]\n",
       "------------------------------------------------------------------------------\n",
       "Intercept     -0.4012     10.865     -0.037      0.971     -21.963      21.161\n",
       "X              1.9867      0.675      2.943      0.004       0.647       3.326\n",
       "==============================================================================\n",
       "Omnibus:                       22.453   Durbin-Watson:                   1.786\n",
       "Prob(Omnibus):                  0.000   Jarque-Bera (JB):               94.350\n",
       "Skew:                          -0.528   Prob(JB):                     3.25e-21\n",
       "Kurtosis:                       7.640   Cond. No.                         44.6\n",
       "==============================================================================\n",
       "\n",
       "Notes:\n",
       "[1] Standard Errors assume that the covariance matrix of the errors is correctly specified.\n",
       "\"\"\""
      ]
     },
     "execution_count": 17,
     "metadata": {},
     "output_type": "execute_result"
    }
   ],
   "source": [
    "model3 = sm.OLS.from_formula(\"Y ~ X\", data=df3)\n",
    "result3 = model3.fit()\n",
    "result3.summary()"
   ]
  },
  {
   "cell_type": "code",
   "execution_count": 18,
   "id": "f087f1f3",
   "metadata": {},
   "outputs": [
    {
     "data": {
      "image/png": "[encoded data removed]",
      "text/plain": [
       "<Figure size 1152x576 with 1 Axes>"
      ]
     },
     "metadata": {
      "needs_background": "light"
     },
     "output_type": "display_data"
    }
   ],
   "source": [
    "plt.figure(figsize=(16, 8))\n",
    "sns.regplot(\n",
    "    x=df3.X,\n",
    "    y=df3.Y,\n",
    "    data=df3,\n",
    "    robust=True,\n",
    "    scatter_kws={\"s\": 55, 'color': '#FF6347'},\n",
    "    line_kws={\"lw\":3}\n",
    ")\n",
    "plt.grid()"
   ]
  },
  {
   "cell_type": "markdown",
   "id": "15463603",
   "metadata": {},
   "source": [
    "# Тест на гетероскедастичность Голдфелда−Куандта\n",
    "* **H0: Присутствует гомоскедастичность**\n",
    "* **H1: гетероскедастичность присутствует**"
   ]
  },
  {
   "cell_type": "code",
   "execution_count": 40,
   "id": "466d0fb0",
   "metadata": {},
   "outputs": [],
   "source": [
    "def homoscedasticity_test(model):\n",
    "    \n",
    "    fitted_vals = model.predict()\n",
    "    resids = model.resid\n",
    "\n",
    "    fig, ax = plt.subplots(1,2, figsize=(15, 7))\n",
    "\n",
    "    sns.regplot(x=fitted_vals, y=resids, lowess=True, ax=ax[0], line_kws={'color': 'red'})\n",
    "    ax[0].set_title('Residuals vs Fitted', fontsize=16)\n",
    "    ax[0].set(xlabel='Fitted Values', ylabel='Residuals')\n",
    "    plt.figure(figsize=(7, 7))\n",
    "\n",
    "    sns.regplot(x=fitted_vals, y=np.sqrt(np.abs(resids)), lowess=True, ax=ax[1], line_kws={'color': 'red'})\n",
    "    ax[1].set_title('Scale-Location', fontsize=16)\n",
    "    ax[1].set(xlabel='Fitted Values', ylabel='sqrt(abs(Residuals))')\n",
    "\n",
    "\n",
    "    gq_test = pd.DataFrame(sm.stats.diagnostic.het_goldfeldquandt(resids, model.model.exog, drop=0.2)[:-1],\n",
    "                           index=['F statistic', 'p-value'])\n",
    "\n",
    "    print('\\n Тест Голдфелда−Куандта ----')\n",
    "    print(gq_test)\n",
    "    print('\\n График остатков ---------')\n"
   ]
  },
  {
   "cell_type": "code",
   "execution_count": 20,
   "id": "0570c049",
   "metadata": {
    "scrolled": false
   },
   "outputs": [
    {
     "name": "stdout",
     "output_type": "stream",
     "text": [
      "\n",
      " Тест Голдфелда−Куандта ----\n",
      "                        0\n",
      "F statistic  7.078043e+00\n",
      "p-value      2.483698e-07\n",
      "\n",
      " График остатков ---------\n"
     ]
    },
    {
     "data": {
      "image/png": "[encoded data removed]",
      "text/plain": [
       "<Figure size 1080x504 with 2 Axes>"
      ]
     },
     "metadata": {
      "needs_background": "light"
     },
     "output_type": "display_data"
    },
    {
     "data": {
      "text/plain": [
       "<Figure size 504x504 with 0 Axes>"
      ]
     },
     "metadata": {},
     "output_type": "display_data"
    }
   ],
   "source": [
    "homoscedasticity_test(result3)\n",
    "# Исходя из F-статистики мы склонны лтвергнуть H0 т к наш уровень значимости значительно выше интервала где мы склонны принять H0\n",
    "# Простыми словами мы отвергаем H0 потому что наше F-statistic > F-tables, F-tables = 4 с чем то хз"
   ]
  },
  {
   "attachments": {
    "image.png": {
     "image/png": "[encoded data removed]"
    }
   },
   "cell_type": "markdown",
   "id": "8d693d47",
   "metadata": {},
   "source": [
    "![image.png](attachment:image.png)"
   ]
  },
  {
   "cell_type": "markdown",
   "id": "e3d692af",
   "metadata": {},
   "source": [
    "# Построил еще одну модель на всякий случай ибо не понятно было почему такой плохой коэффициент Детерминации при неплохом графике"
   ]
  },
  {
   "cell_type": "code",
   "execution_count": 21,
   "id": "6078c8a6",
   "metadata": {},
   "outputs": [
    {
     "name": "stdout",
     "output_type": "stream",
     "text": [
      "(100, 1)\n",
      "(100, 1)\n"
     ]
    }
   ],
   "source": [
    "X = np.array(df3.X)\n",
    "Y = np.array(df3.Y)\n",
    "\n",
    "X = X.reshape(-1,1)\n",
    "print(X.shape)\n",
    "\n",
    "Y = Y.reshape(-1,1)\n",
    "print(Y.shape)"
   ]
  },
  {
   "cell_type": "code",
   "execution_count": 22,
   "id": "06612d76",
   "metadata": {},
   "outputs": [
    {
     "name": "stdout",
     "output_type": "stream",
     "text": [
      "Linear Model Coeff(b1) [[1.98667218]]\n",
      "Linear Model Coeff(b0) [-0.4012067]\n"
     ]
    }
   ],
   "source": [
    "from sklearn.linear_model import LinearRegression\n",
    "\n",
    "SimpleLinearRegg = LinearRegression(fit_intercept= True)\n",
    "SimpleLinearRegg.fit(X, Y)\n",
    "print('Linear Model Coeff(b1)', SimpleLinearRegg.coef_)\n",
    "print('Linear Model Coeff(b0)', SimpleLinearRegg.intercept_)\n",
    "# Абсолютно такие же коэфициэнты "
   ]
  },
  {
   "cell_type": "markdown",
   "id": "6793140b",
   "metadata": {},
   "source": [
    "## Тест ранговой корреляции Спирмена на гетероскедастичность"
   ]
  },
  {
   "cell_type": "code",
   "execution_count": 23,
   "id": "9dfc5bfe",
   "metadata": {},
   "outputs": [],
   "source": [
    "# 1 - 6 * sum((df3['X'].rank() - eee.rank())**2) / (len(df3) * ((len(df3)**2) - 1))\n",
    "# Это вручную считалось "
   ]
  },
  {
   "cell_type": "code",
   "execution_count": 41,
   "id": "02be0a00",
   "metadata": {},
   "outputs": [
    {
     "name": "stdout",
     "output_type": "stream",
     "text": [
      "Коэффициент ранговой корреляции Спирмена: 0.016333633363336333\n",
      "p-значение ранговой корреляции 0.8718622150141239\n",
      "Гомоскедастичность признается значимой. Гипотеза 𝐻0 принимается\n"
     ]
    }
   ],
   "source": [
    "residual = df3[\"Y\"] - result3.predict() # Остатки \n",
    "def spearmans_rank_correlation(x, y):\n",
    "    # Расчитаем ранг для Х\n",
    "    xranks = pd.Series(x).rank()\n",
    "      \n",
    "    # Расчитаем ранг для остатков \n",
    "    yranks = pd.Series(y).rank()\n",
    "    \n",
    "    print(\"Коэффициент ранговой корреляции Спирмена:\",  spearmanr(xranks, yranks)[0])\n",
    "    print(\"p-значение ранговой корреляции\",  spearmanr(xranks, yranks)[1])\n",
    "    \n",
    "    if spearmanr(xranks, yranks)[0]*np.sqrt(len(df3)-1) > 1.96:\n",
    "        print(\"Гетероскедастичность признается значимой. Гипотеза 𝐻1 принимается\")\n",
    "    else:\n",
    "        print(\"Гомоскедастичность признается значимой. Гипотеза 𝐻0 принимается\")\n",
    "    return\n",
    "\n",
    "spearmans_rank_correlation(df3[\"X\"], residual)\n",
    "# прикол в том что у нас не может быть гомоскедостичности поэтому выше я на всякий расчитал вручную оказалось,"
   ]
  },
  {
   "cell_type": "markdown",
   "id": "4f8961af",
   "metadata": {},
   "source": [
    "## Оценка адекватности оцененной модели регрессии. Определение F-критерия"
   ]
  },
  {
   "cell_type": "code",
   "execution_count": 42,
   "id": "e90ae625",
   "metadata": {
    "scrolled": true
   },
   "outputs": [
    {
     "name": "stdout",
     "output_type": "stream",
     "text": [
      "\n",
      " Расчетная статистка значительно больше кретического значения распредления фишера, Принимаем H1 \n",
      " Модель признается НЕ адекватной \n"
     ]
    },
    {
     "data": {
      "text/plain": [
       "0.9281903839615535"
      ]
     },
     "execution_count": 42,
     "metadata": {},
     "output_type": "execute_result"
    }
   ],
   "source": [
    "fisher_test(df3, result3)"
   ]
  },
  {
   "cell_type": "markdown",
   "id": "173fe9c4",
   "metadata": {},
   "source": [
    "# Третий файл"
   ]
  },
  {
   "cell_type": "code",
   "execution_count": 26,
   "id": "bf051731",
   "metadata": {},
   "outputs": [
    {
     "data": {
      "text/html": [
       "<div>\n",
       "<style scoped>\n",
       "    .dataframe tbody tr th:only-of-type {\n",
       "        vertical-align: middle;\n",
       "    }\n",
       "\n",
       "    .dataframe tbody tr th {\n",
       "        vertical-align: top;\n",
       "    }\n",
       "\n",
       "    .dataframe thead th {\n",
       "        text-align: right;\n",
       "    }\n",
       "</style>\n",
       "<table border=\"1\" class=\"dataframe\">\n",
       "  <thead>\n",
       "    <tr style=\"text-align: right;\">\n",
       "      <th></th>\n",
       "      <th>X</th>\n",
       "      <th>D1</th>\n",
       "      <th>D2</th>\n",
       "      <th>Y</th>\n",
       "    </tr>\n",
       "  </thead>\n",
       "  <tbody>\n",
       "    <tr>\n",
       "      <th>0</th>\n",
       "      <td>13.080808</td>\n",
       "      <td>0.0</td>\n",
       "      <td>1.0</td>\n",
       "      <td>6.597668</td>\n",
       "    </tr>\n",
       "    <tr>\n",
       "      <th>1</th>\n",
       "      <td>13.484848</td>\n",
       "      <td>0.0</td>\n",
       "      <td>1.0</td>\n",
       "      <td>8.037302</td>\n",
       "    </tr>\n",
       "    <tr>\n",
       "      <th>2</th>\n",
       "      <td>21.767677</td>\n",
       "      <td>0.0</td>\n",
       "      <td>1.0</td>\n",
       "      <td>12.798756</td>\n",
       "    </tr>\n",
       "    <tr>\n",
       "      <th>3</th>\n",
       "      <td>21.363636</td>\n",
       "      <td>1.0</td>\n",
       "      <td>0.0</td>\n",
       "      <td>-24.852641</td>\n",
       "    </tr>\n",
       "    <tr>\n",
       "      <th>4</th>\n",
       "      <td>5.202020</td>\n",
       "      <td>1.0</td>\n",
       "      <td>1.0</td>\n",
       "      <td>-7.292141</td>\n",
       "    </tr>\n",
       "  </tbody>\n",
       "</table>\n",
       "</div>"
      ],
      "text/plain": [
       "           X   D1   D2          Y\n",
       "0  13.080808  0.0  1.0   6.597668\n",
       "1  13.484848  0.0  1.0   8.037302\n",
       "2  21.767677  0.0  1.0  12.798756\n",
       "3  21.363636  1.0  0.0 -24.852641\n",
       "4   5.202020  1.0  1.0  -7.292141"
      ]
     },
     "execution_count": 26,
     "metadata": {},
     "output_type": "execute_result"
    }
   ],
   "source": [
    "data_2 = np.loadtxt(\"C:/Users/fourz/Downloads/2.txt\", delimiter=',', dtype=np.float64)\n",
    "df2 = pd.DataFrame(data_2, columns=[\"X\", \"D1\", \"D2\", \"Y\"])\n",
    "df2.head()"
   ]
  },
  {
   "cell_type": "code",
   "execution_count": 27,
   "id": "87588a46",
   "metadata": {},
   "outputs": [
    {
     "data": {
      "text/html": [
       "<div>\n",
       "<style scoped>\n",
       "    .dataframe tbody tr th:only-of-type {\n",
       "        vertical-align: middle;\n",
       "    }\n",
       "\n",
       "    .dataframe tbody tr th {\n",
       "        vertical-align: top;\n",
       "    }\n",
       "\n",
       "    .dataframe thead th {\n",
       "        text-align: right;\n",
       "    }\n",
       "</style>\n",
       "<table border=\"1\" class=\"dataframe\">\n",
       "  <thead>\n",
       "    <tr style=\"text-align: right;\">\n",
       "      <th></th>\n",
       "      <th>X</th>\n",
       "      <th>D1</th>\n",
       "      <th>D2</th>\n",
       "      <th>Y</th>\n",
       "    </tr>\n",
       "  </thead>\n",
       "  <tbody>\n",
       "    <tr>\n",
       "      <th>count</th>\n",
       "      <td>200.000000</td>\n",
       "      <td>200.000000</td>\n",
       "      <td>200.000000</td>\n",
       "      <td>200.000000</td>\n",
       "    </tr>\n",
       "    <tr>\n",
       "      <th>mean</th>\n",
       "      <td>15.000000</td>\n",
       "      <td>0.500000</td>\n",
       "      <td>0.520000</td>\n",
       "      <td>-5.008261</td>\n",
       "    </tr>\n",
       "    <tr>\n",
       "      <th>std</th>\n",
       "      <td>5.846163</td>\n",
       "      <td>0.501255</td>\n",
       "      <td>0.500854</td>\n",
       "      <td>14.394640</td>\n",
       "    </tr>\n",
       "    <tr>\n",
       "      <th>min</th>\n",
       "      <td>5.000000</td>\n",
       "      <td>0.000000</td>\n",
       "      <td>0.000000</td>\n",
       "      <td>-29.202424</td>\n",
       "    </tr>\n",
       "    <tr>\n",
       "      <th>25%</th>\n",
       "      <td>10.000000</td>\n",
       "      <td>0.000000</td>\n",
       "      <td>0.000000</td>\n",
       "      <td>-18.135501</td>\n",
       "    </tr>\n",
       "    <tr>\n",
       "      <th>50%</th>\n",
       "      <td>15.000000</td>\n",
       "      <td>0.500000</td>\n",
       "      <td>1.000000</td>\n",
       "      <td>-2.172397</td>\n",
       "    </tr>\n",
       "    <tr>\n",
       "      <th>75%</th>\n",
       "      <td>20.000000</td>\n",
       "      <td>1.000000</td>\n",
       "      <td>1.000000</td>\n",
       "      <td>8.531451</td>\n",
       "    </tr>\n",
       "    <tr>\n",
       "      <th>max</th>\n",
       "      <td>25.000000</td>\n",
       "      <td>1.000000</td>\n",
       "      <td>1.000000</td>\n",
       "      <td>14.477634</td>\n",
       "    </tr>\n",
       "  </tbody>\n",
       "</table>\n",
       "</div>"
      ],
      "text/plain": [
       "                X          D1          D2           Y\n",
       "count  200.000000  200.000000  200.000000  200.000000\n",
       "mean    15.000000    0.500000    0.520000   -5.008261\n",
       "std      5.846163    0.501255    0.500854   14.394640\n",
       "min      5.000000    0.000000    0.000000  -29.202424\n",
       "25%     10.000000    0.000000    0.000000  -18.135501\n",
       "50%     15.000000    0.500000    1.000000   -2.172397\n",
       "75%     20.000000    1.000000    1.000000    8.531451\n",
       "max     25.000000    1.000000    1.000000   14.477634"
      ]
     },
     "execution_count": 27,
     "metadata": {},
     "output_type": "execute_result"
    }
   ],
   "source": [
    "df2.describe()"
   ]
  },
  {
   "cell_type": "markdown",
   "id": "534d2572",
   "metadata": {},
   "source": [
    "# Строим 2 основных модели для теста Чоу"
   ]
  },
  {
   "cell_type": "markdown",
   "id": "ac8e4f4b",
   "metadata": {},
   "source": [
    " **Основной прикол теста чоу это понять делить ли нашу выборку для построения нескольких линейных моделей или оставить все как есть**\n",
    " \n",
    "* *ТО ЕСТЬ ВНИМАТЕЛЬНО СЕЙЧАС H0: наша выборка однородна и ее не нужно делить*\n",
    "* *А H1: Говорит нам о неоднородности что предполагает строить 2 линейные модели*\n"
   ]
  },
  {
   "cell_type": "code",
   "execution_count": 28,
   "id": "27cf019b",
   "metadata": {
    "scrolled": false
   },
   "outputs": [
    {
     "data": {
      "text/html": [
       "<table class=\"simpletable\">\n",
       "<caption>OLS Regression Results</caption>\n",
       "<tr>\n",
       "  <th>Dep. Variable:</th>            <td>Y</td>        <th>  R-squared:         </th> <td>   0.885</td>\n",
       "</tr>\n",
       "<tr>\n",
       "  <th>Model:</th>                   <td>OLS</td>       <th>  Adj. R-squared:    </th> <td>   0.884</td>\n",
       "</tr>\n",
       "<tr>\n",
       "  <th>Method:</th>             <td>Least Squares</td>  <th>  F-statistic:       </th> <td>   757.5</td>\n",
       "</tr>\n",
       "<tr>\n",
       "  <th>Date:</th>             <td>Sat, 03 Dec 2022</td> <th>  Prob (F-statistic):</th> <td>3.18e-93</td>\n",
       "</tr>\n",
       "<tr>\n",
       "  <th>Time:</th>                 <td>12:45:15</td>     <th>  Log-Likelihood:    </th> <td> -600.43</td>\n",
       "</tr>\n",
       "<tr>\n",
       "  <th>No. Observations:</th>      <td>   200</td>      <th>  AIC:               </th> <td>   1207.</td>\n",
       "</tr>\n",
       "<tr>\n",
       "  <th>Df Residuals:</th>          <td>   197</td>      <th>  BIC:               </th> <td>   1217.</td>\n",
       "</tr>\n",
       "<tr>\n",
       "  <th>Df Model:</th>              <td>     2</td>      <th>                     </th>     <td> </td>   \n",
       "</tr>\n",
       "<tr>\n",
       "  <th>Covariance Type:</th>      <td>nonrobust</td>    <th>                     </th>     <td> </td>   \n",
       "</tr>\n",
       "</table>\n",
       "<table class=\"simpletable\">\n",
       "<tr>\n",
       "      <td></td>         <th>coef</th>     <th>std err</th>      <th>t</th>      <th>P>|t|</th>  <th>[0.025</th>    <th>0.975]</th>  \n",
       "</tr>\n",
       "<tr>\n",
       "  <th>Intercept</th> <td>   11.8100</td> <td>    1.019</td> <td>   11.594</td> <td> 0.000</td> <td>    9.801</td> <td>   13.819</td>\n",
       "</tr>\n",
       "<tr>\n",
       "  <th>X</th>         <td>   -0.2250</td> <td>    0.060</td> <td>   -3.781</td> <td> 0.000</td> <td>   -0.342</td> <td>   -0.108</td>\n",
       "</tr>\n",
       "<tr>\n",
       "  <th>D1</th>        <td>  -26.8868</td> <td>    0.694</td> <td>  -38.740</td> <td> 0.000</td> <td>  -28.256</td> <td>  -25.518</td>\n",
       "</tr>\n",
       "</table>\n",
       "<table class=\"simpletable\">\n",
       "<tr>\n",
       "  <th>Omnibus:</th>       <td>60.583</td> <th>  Durbin-Watson:     </th> <td>   1.847</td>\n",
       "</tr>\n",
       "<tr>\n",
       "  <th>Prob(Omnibus):</th> <td> 0.000</td> <th>  Jarque-Bera (JB):  </th> <td>  10.502</td>\n",
       "</tr>\n",
       "<tr>\n",
       "  <th>Skew:</th>          <td>-0.033</td> <th>  Prob(JB):          </th> <td> 0.00524</td>\n",
       "</tr>\n",
       "<tr>\n",
       "  <th>Kurtosis:</th>      <td> 1.879</td> <th>  Cond. No.          </th> <td>    49.4</td>\n",
       "</tr>\n",
       "</table><br/><br/>Notes:<br/>[1] Standard Errors assume that the covariance matrix of the errors is correctly specified."
      ],
      "text/plain": [
       "<class 'statsmodels.iolib.summary.Summary'>\n",
       "\"\"\"\n",
       "                            OLS Regression Results                            \n",
       "==============================================================================\n",
       "Dep. Variable:                      Y   R-squared:                       0.885\n",
       "Model:                            OLS   Adj. R-squared:                  0.884\n",
       "Method:                 Least Squares   F-statistic:                     757.5\n",
       "Date:                Sat, 03 Dec 2022   Prob (F-statistic):           3.18e-93\n",
       "Time:                        12:45:15   Log-Likelihood:                -600.43\n",
       "No. Observations:                 200   AIC:                             1207.\n",
       "Df Residuals:                     197   BIC:                             1217.\n",
       "Df Model:                           2                                         \n",
       "Covariance Type:            nonrobust                                         \n",
       "==============================================================================\n",
       "                 coef    std err          t      P>|t|      [0.025      0.975]\n",
       "------------------------------------------------------------------------------\n",
       "Intercept     11.8100      1.019     11.594      0.000       9.801      13.819\n",
       "X             -0.2250      0.060     -3.781      0.000      -0.342      -0.108\n",
       "D1           -26.8868      0.694    -38.740      0.000     -28.256     -25.518\n",
       "==============================================================================\n",
       "Omnibus:                       60.583   Durbin-Watson:                   1.847\n",
       "Prob(Omnibus):                  0.000   Jarque-Bera (JB):               10.502\n",
       "Skew:                          -0.033   Prob(JB):                      0.00524\n",
       "Kurtosis:                       1.879   Cond. No.                         49.4\n",
       "==============================================================================\n",
       "\n",
       "Notes:\n",
       "[1] Standard Errors assume that the covariance matrix of the errors is correctly specified.\n",
       "\"\"\""
      ]
     },
     "execution_count": 28,
     "metadata": {},
     "output_type": "execute_result"
    }
   ],
   "source": [
    "cho_model1 = sm.OLS.from_formula(\"Y ~ X + D1\", data=df2)\n",
    "Cho_result1 = cho_model1.fit()\n",
    "Cho_result1.summary()"
   ]
  },
  {
   "cell_type": "markdown",
   "id": "870d15d8",
   "metadata": {},
   "source": [
    "## Построение линейной модели по первому коэффициенту \"D1\""
   ]
  },
  {
   "cell_type": "code",
   "execution_count": 29,
   "id": "5cb8acc0",
   "metadata": {
    "scrolled": false
   },
   "outputs": [
    {
     "data": {
      "image/png": "[encoded data removed]",
      "text/plain": [
       "<Figure size 1152x576 with 1 Axes>"
      ]
     },
     "metadata": {
      "needs_background": "light"
     },
     "output_type": "display_data"
    }
   ],
   "source": [
    "plt.figure(figsize=(16, 8))\n",
    "\n",
    "sns.regplot(\n",
    "    x=df2.X,\n",
    "    y=df2.Y,\n",
    "    data=df2,\n",
    "    robust=True,\n",
    "    scatter_kws={\"s\": 55, 'color': '#FF6347'},\n",
    "    line_kws={\"lw\":3}\n",
    ")\n",
    "plt.scatter(df2['X'], df2['Y'], c=df2['D1'])\n",
    "plt.grid()\n"
   ]
  },
  {
   "cell_type": "code",
   "execution_count": 31,
   "id": "c635ed25",
   "metadata": {
    "scrolled": false
   },
   "outputs": [
    {
     "data": {
      "text/html": [
       "<table class=\"simpletable\">\n",
       "<caption>OLS Regression Results</caption>\n",
       "<tr>\n",
       "  <th>Dep. Variable:</th>            <td>Y</td>        <th>  R-squared:         </th> <td>   0.015</td>\n",
       "</tr>\n",
       "<tr>\n",
       "  <th>Model:</th>                   <td>OLS</td>       <th>  Adj. R-squared:    </th> <td>   0.005</td>\n",
       "</tr>\n",
       "<tr>\n",
       "  <th>Method:</th>             <td>Least Squares</td>  <th>  F-statistic:       </th> <td>   1.467</td>\n",
       "</tr>\n",
       "<tr>\n",
       "  <th>Date:</th>             <td>Sat, 03 Dec 2022</td> <th>  Prob (F-statistic):</th>  <td> 0.233</td> \n",
       "</tr>\n",
       "<tr>\n",
       "  <th>Time:</th>                 <td>12:52:31</td>     <th>  Log-Likelihood:    </th> <td> -815.18</td>\n",
       "</tr>\n",
       "<tr>\n",
       "  <th>No. Observations:</th>      <td>   200</td>      <th>  AIC:               </th> <td>   1636.</td>\n",
       "</tr>\n",
       "<tr>\n",
       "  <th>Df Residuals:</th>          <td>   197</td>      <th>  BIC:               </th> <td>   1646.</td>\n",
       "</tr>\n",
       "<tr>\n",
       "  <th>Df Model:</th>              <td>     2</td>      <th>                     </th>     <td> </td>   \n",
       "</tr>\n",
       "<tr>\n",
       "  <th>Covariance Type:</th>      <td>nonrobust</td>    <th>                     </th>     <td> </td>   \n",
       "</tr>\n",
       "</table>\n",
       "<table class=\"simpletable\">\n",
       "<tr>\n",
       "      <td></td>         <th>coef</th>     <th>std err</th>      <th>t</th>      <th>P>|t|</th>  <th>[0.025</th>    <th>0.975]</th>  \n",
       "</tr>\n",
       "<tr>\n",
       "  <th>Intercept</th> <td>   -0.0268</td> <td>    3.146</td> <td>   -0.009</td> <td> 0.993</td> <td>   -6.231</td> <td>    6.177</td>\n",
       "</tr>\n",
       "<tr>\n",
       "  <th>X</th>         <td>   -0.2521</td> <td>    0.176</td> <td>   -1.434</td> <td> 0.153</td> <td>   -0.599</td> <td>    0.095</td>\n",
       "</tr>\n",
       "<tr>\n",
       "  <th>D2</th>        <td>   -2.3069</td> <td>    2.052</td> <td>   -1.124</td> <td> 0.262</td> <td>   -6.354</td> <td>    1.740</td>\n",
       "</tr>\n",
       "</table>\n",
       "<table class=\"simpletable\">\n",
       "<tr>\n",
       "  <th>Omnibus:</th>       <td>2626.137</td> <th>  Durbin-Watson:     </th> <td>   2.134</td>\n",
       "</tr>\n",
       "<tr>\n",
       "  <th>Prob(Omnibus):</th>  <td> 0.000</td>  <th>  Jarque-Bera (JB):  </th> <td>  20.123</td>\n",
       "</tr>\n",
       "<tr>\n",
       "  <th>Skew:</th>           <td>-0.006</td>  <th>  Prob(JB):          </th> <td>4.27e-05</td>\n",
       "</tr>\n",
       "<tr>\n",
       "  <th>Kurtosis:</th>       <td> 1.446</td>  <th>  Cond. No.          </th> <td>    53.0</td>\n",
       "</tr>\n",
       "</table><br/><br/>Notes:<br/>[1] Standard Errors assume that the covariance matrix of the errors is correctly specified."
      ],
      "text/plain": [
       "<class 'statsmodels.iolib.summary.Summary'>\n",
       "\"\"\"\n",
       "                            OLS Regression Results                            \n",
       "==============================================================================\n",
       "Dep. Variable:                      Y   R-squared:                       0.015\n",
       "Model:                            OLS   Adj. R-squared:                  0.005\n",
       "Method:                 Least Squares   F-statistic:                     1.467\n",
       "Date:                Sat, 03 Dec 2022   Prob (F-statistic):              0.233\n",
       "Time:                        12:52:31   Log-Likelihood:                -815.18\n",
       "No. Observations:                 200   AIC:                             1636.\n",
       "Df Residuals:                     197   BIC:                             1646.\n",
       "Df Model:                           2                                         \n",
       "Covariance Type:            nonrobust                                         \n",
       "==============================================================================\n",
       "                 coef    std err          t      P>|t|      [0.025      0.975]\n",
       "------------------------------------------------------------------------------\n",
       "Intercept     -0.0268      3.146     -0.009      0.993      -6.231       6.177\n",
       "X             -0.2521      0.176     -1.434      0.153      -0.599       0.095\n",
       "D2            -2.3069      2.052     -1.124      0.262      -6.354       1.740\n",
       "==============================================================================\n",
       "Omnibus:                     2626.137   Durbin-Watson:                   2.134\n",
       "Prob(Omnibus):                  0.000   Jarque-Bera (JB):               20.123\n",
       "Skew:                          -0.006   Prob(JB):                     4.27e-05\n",
       "Kurtosis:                       1.446   Cond. No.                         53.0\n",
       "==============================================================================\n",
       "\n",
       "Notes:\n",
       "[1] Standard Errors assume that the covariance matrix of the errors is correctly specified.\n",
       "\"\"\""
      ]
     },
     "execution_count": 31,
     "metadata": {},
     "output_type": "execute_result"
    }
   ],
   "source": [
    "cho_model2 = sm.OLS.from_formula(\"Y ~ X + D2\", data=df2)\n",
    "Cho_result2 = cho_model2.fit()\n",
    "Cho_result2.summary()"
   ]
  },
  {
   "cell_type": "markdown",
   "id": "9e4cae3b",
   "metadata": {},
   "source": [
    "## Построение линейной модели по первому коэффициенту \"D2\""
   ]
  },
  {
   "cell_type": "code",
   "execution_count": 32,
   "id": "f68ede29",
   "metadata": {},
   "outputs": [
    {
     "data": {
      "image/png": "[encoded data removed]",
      "text/plain": [
       "<Figure size 1152x576 with 1 Axes>"
      ]
     },
     "metadata": {
      "needs_background": "light"
     },
     "output_type": "display_data"
    }
   ],
   "source": [
    "plt.figure(figsize=(16, 8))\n",
    "\n",
    "sns.regplot(\n",
    "    x=df2.X,\n",
    "    y=df2.Y,\n",
    "    data=df2,\n",
    "    robust=True,\n",
    "    scatter_kws={\"s\": 55, 'color': '#FF6347'},\n",
    "    line_kws={\"lw\":3}\n",
    ")\n",
    "plt.scatter(df2['X'], df2['Y'], c=df2['D2'])\n",
    "plt.grid()"
   ]
  },
  {
   "cell_type": "code",
   "execution_count": 39,
   "id": "c7cee86b",
   "metadata": {},
   "outputs": [
    {
     "data": {
      "text/plain": [
       "0.55208583933589"
      ]
     },
     "execution_count": 39,
     "metadata": {},
     "output_type": "execute_result"
    }
   ],
   "source": [
    "def F_chow(data, x, Cho_result):\n",
    "    Cho_df1_0 = data[x == 0]  #Разделил выборку \"в этом и прикол этого теста\"\n",
    "    Cho_df1_1 = data[x == 1]\n",
    "    \n",
    "    cho_model0 = sm.OLS.from_formula(\"Y ~ X + D2\", data=Cho_df1_0) # Линейная модель для данных где коэффициэнт D равен \"0\"\n",
    "    cho_result0 = cho_model0.fit()\n",
    "    \n",
    "    cho_model1 = sm.OLS.from_formula(\"Y ~ X + D2\", data=Cho_df1_1) # Линейная модель для данных где коэффициэнт D равен \"1\"\n",
    "    cho_result1 = cho_model1.fit()\n",
    "    \n",
    "    F = (RSS(df2, Cho_result) - (RSS(Cho_df1_0, cho_result0) + RSS(Cho_df1_1, cho_result1))) * len(Cho_df1_1) - 4\n",
    "    GG = F / ((RSS(Cho_df1_0, cho_result0) + RSS(Cho_df1_1, cho_result1))) * 4\n",
    "    \n",
    "    return GG\n",
    "F_chow(df2, df2.D2, Cho_result2)"
   ]
  },
  {
   "cell_type": "markdown",
   "id": "6ab550be",
   "metadata": {},
   "source": [
    "## Eсли наша F-статистика > Табличной F, тогда мы отверагем нулевую гипотезу об однородности выборки. (H1)\n",
    "## Eсли F-статистика < Табличной F, тогда мы остаемся с нулевой гипотезой (H0)"
   ]
  },
  {
   "cell_type": "code",
   "execution_count": 38,
   "id": "3713f6f1",
   "metadata": {},
   "outputs": [
    {
     "name": "stderr",
     "output_type": "stream",
     "text": [
      "C:\\Users\\fourz\\anaconda3\\lib\\site-packages\\statsmodels\\regression\\linear_model.py:1918: RuntimeWarning: divide by zero encountered in double_scalars\n",
      "  return np.sqrt(eigvals[0]/eigvals[-1])\n"
     ]
    },
    {
     "data": {
      "text/html": [
       "<table class=\"simpletable\">\n",
       "<caption>OLS Regression Results</caption>\n",
       "<tr>\n",
       "  <th>Dep. Variable:</th>            <td>Y</td>        <th>  R-squared:         </th> <td>   0.974</td>\n",
       "</tr>\n",
       "<tr>\n",
       "  <th>Model:</th>                   <td>OLS</td>       <th>  Adj. R-squared:    </th> <td>   0.974</td>\n",
       "</tr>\n",
       "<tr>\n",
       "  <th>Method:</th>             <td>Least Squares</td>  <th>  F-statistic:       </th> <td>   3695.</td>\n",
       "</tr>\n",
       "<tr>\n",
       "  <th>Date:</th>             <td>Sat, 03 Dec 2022</td> <th>  Prob (F-statistic):</th> <td>1.29e-79</td>\n",
       "</tr>\n",
       "<tr>\n",
       "  <th>Time:</th>                 <td>12:55:48</td>     <th>  Log-Likelihood:    </th> <td> -141.43</td>\n",
       "</tr>\n",
       "<tr>\n",
       "  <th>No. Observations:</th>      <td>   100</td>      <th>  AIC:               </th> <td>   286.9</td>\n",
       "</tr>\n",
       "<tr>\n",
       "  <th>Df Residuals:</th>          <td>    98</td>      <th>  BIC:               </th> <td>   292.1</td>\n",
       "</tr>\n",
       "<tr>\n",
       "  <th>Df Model:</th>              <td>     1</td>      <th>                     </th>     <td> </td>   \n",
       "</tr>\n",
       "<tr>\n",
       "  <th>Covariance Type:</th>      <td>nonrobust</td>    <th>                     </th>     <td> </td>   \n",
       "</tr>\n",
       "</table>\n",
       "<table class=\"simpletable\">\n",
       "<tr>\n",
       "      <td></td>         <th>coef</th>     <th>std err</th>      <th>t</th>      <th>P>|t|</th>  <th>[0.025</th>    <th>0.975]</th>  \n",
       "</tr>\n",
       "<tr>\n",
       "  <th>Intercept</th> <td>   -1.3649</td> <td>    0.139</td> <td>   -9.837</td> <td> 0.000</td> <td>   -1.640</td> <td>   -1.090</td>\n",
       "</tr>\n",
       "<tr>\n",
       "  <th>X</th>         <td>   -1.0481</td> <td>    0.017</td> <td>  -60.788</td> <td> 0.000</td> <td>   -1.082</td> <td>   -1.014</td>\n",
       "</tr>\n",
       "<tr>\n",
       "  <th>D1</th>        <td>   -1.3649</td> <td>    0.139</td> <td>   -9.837</td> <td> 0.000</td> <td>   -1.640</td> <td>   -1.090</td>\n",
       "</tr>\n",
       "</table>\n",
       "<table class=\"simpletable\">\n",
       "<tr>\n",
       "  <th>Omnibus:</th>       <td>10.379</td> <th>  Durbin-Watson:     </th> <td>   2.242</td>\n",
       "</tr>\n",
       "<tr>\n",
       "  <th>Prob(Omnibus):</th> <td> 0.006</td> <th>  Jarque-Bera (JB):  </th> <td>  11.504</td>\n",
       "</tr>\n",
       "<tr>\n",
       "  <th>Skew:</th>          <td> 0.610</td> <th>  Prob(JB):          </th> <td> 0.00318</td>\n",
       "</tr>\n",
       "<tr>\n",
       "  <th>Kurtosis:</th>      <td> 4.128</td> <th>  Cond. No.          </th> <td>     inf</td>\n",
       "</tr>\n",
       "</table><br/><br/>Notes:<br/>[1] Standard Errors assume that the covariance matrix of the errors is correctly specified.<br/>[2] The smallest eigenvalue is      0. This might indicate that there are<br/>strong multicollinearity problems or that the design matrix is singular."
      ],
      "text/plain": [
       "<class 'statsmodels.iolib.summary.Summary'>\n",
       "\"\"\"\n",
       "                            OLS Regression Results                            \n",
       "==============================================================================\n",
       "Dep. Variable:                      Y   R-squared:                       0.974\n",
       "Model:                            OLS   Adj. R-squared:                  0.974\n",
       "Method:                 Least Squares   F-statistic:                     3695.\n",
       "Date:                Sat, 03 Dec 2022   Prob (F-statistic):           1.29e-79\n",
       "Time:                        12:55:48   Log-Likelihood:                -141.43\n",
       "No. Observations:                 100   AIC:                             286.9\n",
       "Df Residuals:                      98   BIC:                             292.1\n",
       "Df Model:                           1                                         \n",
       "Covariance Type:            nonrobust                                         \n",
       "==============================================================================\n",
       "                 coef    std err          t      P>|t|      [0.025      0.975]\n",
       "------------------------------------------------------------------------------\n",
       "Intercept     -1.3649      0.139     -9.837      0.000      -1.640      -1.090\n",
       "X             -1.0481      0.017    -60.788      0.000      -1.082      -1.014\n",
       "D1            -1.3649      0.139     -9.837      0.000      -1.640      -1.090\n",
       "==============================================================================\n",
       "Omnibus:                       10.379   Durbin-Watson:                   2.242\n",
       "Prob(Omnibus):                  0.006   Jarque-Bera (JB):               11.504\n",
       "Skew:                           0.610   Prob(JB):                      0.00318\n",
       "Kurtosis:                       4.128   Cond. No.                          inf\n",
       "==============================================================================\n",
       "\n",
       "Notes:\n",
       "[1] Standard Errors assume that the covariance matrix of the errors is correctly specified.\n",
       "[2] The smallest eigenvalue is      0. This might indicate that there are\n",
       "strong multicollinearity problems or that the design matrix is singular.\n",
       "\"\"\""
      ]
     },
     "execution_count": 38,
     "metadata": {},
     "output_type": "execute_result"
    }
   ],
   "source": [
    "lone1 = df2[df2[\"D1\"] == 0]\n",
    "lone2 = df2[df2[\"D1\"] == 1]\n",
    "MODEL1 = sm.OLS.from_formula(\"Y ~ X + D1\", data=lone2)\n",
    "Result1 = MODEL1.fit()\n",
    "Result1.summary()"
   ]
  },
  {
   "cell_type": "code",
   "execution_count": 24,
   "id": "39e49ff3",
   "metadata": {},
   "outputs": [
    {
     "data": {
      "image/png": "[encoded data removed]",
      "text/plain": [
       "<Figure size 1152x576 with 1 Axes>"
      ]
     },
     "metadata": {
      "needs_background": "light"
     },
     "output_type": "display_data"
    }
   ],
   "source": [
    "plt.figure(figsize=(16, 8))\n",
    "sns.regplot(\n",
    "    x=lone1.X,\n",
    "    y=lone1.Y, \n",
    "    data=lone1,\n",
    "    robust=True,\n",
    "    ci=95,\n",
    "    scatter_kws={\"s\": 68, 'color': '#FF6347'},\n",
    "    line_kws={\"lw\":4}\n",
    ")\n",
    "\n",
    "sns.regplot(\n",
    "    x=lone2.X,\n",
    "    y=lone2.Y, \n",
    "    data=lone2,\n",
    "    robust=True,\n",
    "    ci=95,\n",
    "    scatter_kws={\"s\": 55, 'color': '#FF6347'},\n",
    "    line_kws={\"lw\":3}\n",
    ")\n",
    "plt.scatter(df2['X'], df2['Y'], c=df2['D1'])\n",
    "plt.grid()"
   ]
  },
  {
   "cell_type": "code",
   "execution_count": null,
   "id": "83bf1d73",
   "metadata": {},
   "outputs": [],
   "source": []
  }
 ],
 "metadata": {
  "kernelspec": {
   "display_name": "Python 3 (ipykernel)",
   "language": "python",
   "name": "python3"
  },
  "language_info": {
   "codemirror_mode": {
    "name": "ipython",
    "version": 3
   },
   "file_extension": ".py",
   "mimetype": "text/x-python",
   "name": "python",
   "nbconvert_exporter": "python",
   "pygments_lexer": "ipython3",
   "version": "3.9.16"
  },
  "toc": {
   "base_numbering": 1,
   "nav_menu": {},
   "number_sections": true,
   "sideBar": true,
   "skip_h1_title": false,
   "title_cell": "Table of Contents",
   "title_sidebar": "Contents",
   "toc_cell": false,
   "toc_position": {
    "height": "calc(100% - 180px)",
    "left": "10px",
    "top": "150px",
    "width": "384px"
   },
   "toc_section_display": true,
   "toc_window_display": true
  },
  "varInspector": {
   "cols": {
    "lenName": 16,
    "lenType": 16,
    "lenVar": 40
   },
   "kernels_config": {
    "python": {
     "delete_cmd_postfix": "",
     "delete_cmd_prefix": "del ",
     "library": "var_list.py",
     "varRefreshCmd": "print(var_dic_list())"
    },
    "r": {
     "delete_cmd_postfix": ") ",
     "delete_cmd_prefix": "rm(",
     "library": "var_list.r",
     "varRefreshCmd": "cat(var_dic_list()) "
    }
   },
   "types_to_exclude": [
    "module",
    "function",
    "builtin_function_or_method",
    "instance",
    "_Feature"
   ],
   "window_display": false
  }
 },
 "nbformat": 4,
 "nbformat_minor": 5
}
